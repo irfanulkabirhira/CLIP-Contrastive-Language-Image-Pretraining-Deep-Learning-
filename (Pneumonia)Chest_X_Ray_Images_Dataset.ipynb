{
  "cells": [
    {
      "cell_type": "markdown",
      "metadata": {
        "id": "3wLTXc8PUmaS"
      },
      "source": [
        "# ✅ Install dependencies"
      ]
    },
    {
      "cell_type": "code",
      "execution_count": null,
      "metadata": {
        "colab": {
          "base_uri": "https://localhost:8080/"
        },
        "id": "723NWgAqDhtQ",
        "outputId": "70fc2370-a792-4cbe-fbe0-a6a569b71e7c"
      },
      "outputs": [
        {
          "output_type": "stream",
          "name": "stdout",
          "text": [
            "Collecting ftfy\n",
            "  Downloading ftfy-6.3.1-py3-none-any.whl.metadata (7.3 kB)\n",
            "Requirement already satisfied: regex in /usr/local/lib/python3.11/dist-packages (2024.11.6)\n",
            "Requirement already satisfied: tqdm in /usr/local/lib/python3.11/dist-packages (4.67.1)\n",
            "Requirement already satisfied: wcwidth in /usr/local/lib/python3.11/dist-packages (from ftfy) (0.2.13)\n",
            "Downloading ftfy-6.3.1-py3-none-any.whl (44 kB)\n",
            "\u001b[2K   \u001b[90m━━━━━━━━━━━━━━━━━━━━━━━━━━━━━━━━━━━━━━━━\u001b[0m \u001b[32m44.8/44.8 kB\u001b[0m \u001b[31m1.6 MB/s\u001b[0m eta \u001b[36m0:00:00\u001b[0m\n",
            "\u001b[?25hInstalling collected packages: ftfy\n",
            "Successfully installed ftfy-6.3.1\n",
            "Collecting git+https://github.com/openai/CLIP.git\n",
            "  Cloning https://github.com/openai/CLIP.git to /tmp/pip-req-build-7r1oja0b\n",
            "  Running command git clone --filter=blob:none --quiet https://github.com/openai/CLIP.git /tmp/pip-req-build-7r1oja0b\n",
            "  Resolved https://github.com/openai/CLIP.git to commit dcba3cb2e2827b402d2701e7e1c7d9fed8a20ef1\n",
            "  Preparing metadata (setup.py) ... \u001b[?25l\u001b[?25hdone\n",
            "Requirement already satisfied: ftfy in /usr/local/lib/python3.11/dist-packages (from clip==1.0) (6.3.1)\n",
            "Requirement already satisfied: packaging in /usr/local/lib/python3.11/dist-packages (from clip==1.0) (24.2)\n",
            "Requirement already satisfied: regex in /usr/local/lib/python3.11/dist-packages (from clip==1.0) (2024.11.6)\n",
            "Requirement already satisfied: tqdm in /usr/local/lib/python3.11/dist-packages (from clip==1.0) (4.67.1)\n",
            "Requirement already satisfied: torch in /usr/local/lib/python3.11/dist-packages (from clip==1.0) (2.6.0+cu124)\n",
            "Requirement already satisfied: torchvision in /usr/local/lib/python3.11/dist-packages (from clip==1.0) (0.21.0+cu124)\n",
            "Requirement already satisfied: wcwidth in /usr/local/lib/python3.11/dist-packages (from ftfy->clip==1.0) (0.2.13)\n",
            "Requirement already satisfied: filelock in /usr/local/lib/python3.11/dist-packages (from torch->clip==1.0) (3.18.0)\n",
            "Requirement already satisfied: typing-extensions>=4.10.0 in /usr/local/lib/python3.11/dist-packages (from torch->clip==1.0) (4.14.0)\n",
            "Requirement already satisfied: networkx in /usr/local/lib/python3.11/dist-packages (from torch->clip==1.0) (3.5)\n",
            "Requirement already satisfied: jinja2 in /usr/local/lib/python3.11/dist-packages (from torch->clip==1.0) (3.1.6)\n",
            "Requirement already satisfied: fsspec in /usr/local/lib/python3.11/dist-packages (from torch->clip==1.0) (2025.3.2)\n",
            "Collecting nvidia-cuda-nvrtc-cu12==12.4.127 (from torch->clip==1.0)\n",
            "  Downloading nvidia_cuda_nvrtc_cu12-12.4.127-py3-none-manylinux2014_x86_64.whl.metadata (1.5 kB)\n",
            "Collecting nvidia-cuda-runtime-cu12==12.4.127 (from torch->clip==1.0)\n",
            "  Downloading nvidia_cuda_runtime_cu12-12.4.127-py3-none-manylinux2014_x86_64.whl.metadata (1.5 kB)\n",
            "Collecting nvidia-cuda-cupti-cu12==12.4.127 (from torch->clip==1.0)\n",
            "  Downloading nvidia_cuda_cupti_cu12-12.4.127-py3-none-manylinux2014_x86_64.whl.metadata (1.6 kB)\n",
            "Collecting nvidia-cudnn-cu12==9.1.0.70 (from torch->clip==1.0)\n",
            "  Downloading nvidia_cudnn_cu12-9.1.0.70-py3-none-manylinux2014_x86_64.whl.metadata (1.6 kB)\n",
            "Collecting nvidia-cublas-cu12==12.4.5.8 (from torch->clip==1.0)\n",
            "  Downloading nvidia_cublas_cu12-12.4.5.8-py3-none-manylinux2014_x86_64.whl.metadata (1.5 kB)\n",
            "Collecting nvidia-cufft-cu12==11.2.1.3 (from torch->clip==1.0)\n",
            "  Downloading nvidia_cufft_cu12-11.2.1.3-py3-none-manylinux2014_x86_64.whl.metadata (1.5 kB)\n",
            "Collecting nvidia-curand-cu12==10.3.5.147 (from torch->clip==1.0)\n",
            "  Downloading nvidia_curand_cu12-10.3.5.147-py3-none-manylinux2014_x86_64.whl.metadata (1.5 kB)\n",
            "Collecting nvidia-cusolver-cu12==11.6.1.9 (from torch->clip==1.0)\n",
            "  Downloading nvidia_cusolver_cu12-11.6.1.9-py3-none-manylinux2014_x86_64.whl.metadata (1.6 kB)\n",
            "Collecting nvidia-cusparse-cu12==12.3.1.170 (from torch->clip==1.0)\n",
            "  Downloading nvidia_cusparse_cu12-12.3.1.170-py3-none-manylinux2014_x86_64.whl.metadata (1.6 kB)\n",
            "Requirement already satisfied: nvidia-cusparselt-cu12==0.6.2 in /usr/local/lib/python3.11/dist-packages (from torch->clip==1.0) (0.6.2)\n",
            "Requirement already satisfied: nvidia-nccl-cu12==2.21.5 in /usr/local/lib/python3.11/dist-packages (from torch->clip==1.0) (2.21.5)\n",
            "Requirement already satisfied: nvidia-nvtx-cu12==12.4.127 in /usr/local/lib/python3.11/dist-packages (from torch->clip==1.0) (12.4.127)\n",
            "Collecting nvidia-nvjitlink-cu12==12.4.127 (from torch->clip==1.0)\n",
            "  Downloading nvidia_nvjitlink_cu12-12.4.127-py3-none-manylinux2014_x86_64.whl.metadata (1.5 kB)\n",
            "Requirement already satisfied: triton==3.2.0 in /usr/local/lib/python3.11/dist-packages (from torch->clip==1.0) (3.2.0)\n",
            "Requirement already satisfied: sympy==1.13.1 in /usr/local/lib/python3.11/dist-packages (from torch->clip==1.0) (1.13.1)\n",
            "Requirement already satisfied: mpmath<1.4,>=1.1.0 in /usr/local/lib/python3.11/dist-packages (from sympy==1.13.1->torch->clip==1.0) (1.3.0)\n",
            "Requirement already satisfied: numpy in /usr/local/lib/python3.11/dist-packages (from torchvision->clip==1.0) (2.0.2)\n",
            "Requirement already satisfied: pillow!=8.3.*,>=5.3.0 in /usr/local/lib/python3.11/dist-packages (from torchvision->clip==1.0) (11.2.1)\n",
            "Requirement already satisfied: MarkupSafe>=2.0 in /usr/local/lib/python3.11/dist-packages (from jinja2->torch->clip==1.0) (3.0.2)\n",
            "Downloading nvidia_cublas_cu12-12.4.5.8-py3-none-manylinux2014_x86_64.whl (363.4 MB)\n",
            "\u001b[2K   \u001b[90m━━━━━━━━━━━━━━━━━━━━━━━━━━━━━━━━━━━━━━━━\u001b[0m \u001b[32m363.4/363.4 MB\u001b[0m \u001b[31m4.6 MB/s\u001b[0m eta \u001b[36m0:00:00\u001b[0m\n",
            "\u001b[?25hDownloading nvidia_cuda_cupti_cu12-12.4.127-py3-none-manylinux2014_x86_64.whl (13.8 MB)\n",
            "\u001b[2K   \u001b[90m━━━━━━━━━━━━━━━━━━━━━━━━━━━━━━━━━━━━━━━━\u001b[0m \u001b[32m13.8/13.8 MB\u001b[0m \u001b[31m104.9 MB/s\u001b[0m eta \u001b[36m0:00:00\u001b[0m\n",
            "\u001b[?25hDownloading nvidia_cuda_nvrtc_cu12-12.4.127-py3-none-manylinux2014_x86_64.whl (24.6 MB)\n",
            "\u001b[2K   \u001b[90m━━━━━━━━━━━━━━━━━━━━━━━━━━━━━━━━━━━━━━━━\u001b[0m \u001b[32m24.6/24.6 MB\u001b[0m \u001b[31m81.7 MB/s\u001b[0m eta \u001b[36m0:00:00\u001b[0m\n",
            "\u001b[?25hDownloading nvidia_cuda_runtime_cu12-12.4.127-py3-none-manylinux2014_x86_64.whl (883 kB)\n",
            "\u001b[2K   \u001b[90m━━━━━━━━━━━━━━━━━━━━━━━━━━━━━━━━━━━━━━━━\u001b[0m \u001b[32m883.7/883.7 kB\u001b[0m \u001b[31m48.2 MB/s\u001b[0m eta \u001b[36m0:00:00\u001b[0m\n",
            "\u001b[?25hDownloading nvidia_cudnn_cu12-9.1.0.70-py3-none-manylinux2014_x86_64.whl (664.8 MB)\n",
            "\u001b[2K   \u001b[90m━━━━━━━━━━━━━━━━━━━━━━━━━━━━━━━━━━━━━━━━\u001b[0m \u001b[32m664.8/664.8 MB\u001b[0m \u001b[31m3.0 MB/s\u001b[0m eta \u001b[36m0:00:00\u001b[0m\n",
            "\u001b[?25hDownloading nvidia_cufft_cu12-11.2.1.3-py3-none-manylinux2014_x86_64.whl (211.5 MB)\n",
            "\u001b[2K   \u001b[90m━━━━━━━━━━━━━━━━━━━━━━━━━━━━━━━━━━━━━━━━\u001b[0m \u001b[32m211.5/211.5 MB\u001b[0m \u001b[31m5.6 MB/s\u001b[0m eta \u001b[36m0:00:00\u001b[0m\n",
            "\u001b[?25hDownloading nvidia_curand_cu12-10.3.5.147-py3-none-manylinux2014_x86_64.whl (56.3 MB)\n",
            "\u001b[2K   \u001b[90m━━━━━━━━━━━━━━━━━━━━━━━━━━━━━━━━━━━━━━━━\u001b[0m \u001b[32m56.3/56.3 MB\u001b[0m \u001b[31m11.9 MB/s\u001b[0m eta \u001b[36m0:00:00\u001b[0m\n",
            "\u001b[?25hDownloading nvidia_cusolver_cu12-11.6.1.9-py3-none-manylinux2014_x86_64.whl (127.9 MB)\n",
            "\u001b[2K   \u001b[90m━━━━━━━━━━━━━━━━━━━━━━━━━━━━━━━━━━━━━━━━\u001b[0m \u001b[32m127.9/127.9 MB\u001b[0m \u001b[31m7.5 MB/s\u001b[0m eta \u001b[36m0:00:00\u001b[0m\n",
            "\u001b[?25hDownloading nvidia_cusparse_cu12-12.3.1.170-py3-none-manylinux2014_x86_64.whl (207.5 MB)\n",
            "\u001b[2K   \u001b[90m━━━━━━━━━━━━━━━━━━━━━━━━━━━━━━━━━━━━━━━━\u001b[0m \u001b[32m207.5/207.5 MB\u001b[0m \u001b[31m5.8 MB/s\u001b[0m eta \u001b[36m0:00:00\u001b[0m\n",
            "\u001b[?25hDownloading nvidia_nvjitlink_cu12-12.4.127-py3-none-manylinux2014_x86_64.whl (21.1 MB)\n",
            "\u001b[2K   \u001b[90m━━━━━━━━━━━━━━━━━━━━━━━━━━━━━━━━━━━━━━━━\u001b[0m \u001b[32m21.1/21.1 MB\u001b[0m \u001b[31m84.9 MB/s\u001b[0m eta \u001b[36m0:00:00\u001b[0m\n",
            "\u001b[?25hBuilding wheels for collected packages: clip\n",
            "  Building wheel for clip (setup.py) ... \u001b[?25l\u001b[?25hdone\n",
            "  Created wheel for clip: filename=clip-1.0-py3-none-any.whl size=1369490 sha256=bf7a72f1bebbd20892c8dfc32c1bf53188601172f693f08b9ad761fede2bff6f\n",
            "  Stored in directory: /tmp/pip-ephem-wheel-cache-2t38exvo/wheels/3f/7c/a4/9b490845988bf7a4db33674d52f709f088f64392063872eb9a\n",
            "Successfully built clip\n",
            "Installing collected packages: nvidia-nvjitlink-cu12, nvidia-curand-cu12, nvidia-cufft-cu12, nvidia-cuda-runtime-cu12, nvidia-cuda-nvrtc-cu12, nvidia-cuda-cupti-cu12, nvidia-cublas-cu12, nvidia-cusparse-cu12, nvidia-cudnn-cu12, nvidia-cusolver-cu12, clip\n",
            "  Attempting uninstall: nvidia-nvjitlink-cu12\n",
            "    Found existing installation: nvidia-nvjitlink-cu12 12.5.82\n",
            "    Uninstalling nvidia-nvjitlink-cu12-12.5.82:\n",
            "      Successfully uninstalled nvidia-nvjitlink-cu12-12.5.82\n",
            "  Attempting uninstall: nvidia-curand-cu12\n",
            "    Found existing installation: nvidia-curand-cu12 10.3.6.82\n",
            "    Uninstalling nvidia-curand-cu12-10.3.6.82:\n",
            "      Successfully uninstalled nvidia-curand-cu12-10.3.6.82\n",
            "  Attempting uninstall: nvidia-cufft-cu12\n",
            "    Found existing installation: nvidia-cufft-cu12 11.2.3.61\n",
            "    Uninstalling nvidia-cufft-cu12-11.2.3.61:\n",
            "      Successfully uninstalled nvidia-cufft-cu12-11.2.3.61\n",
            "  Attempting uninstall: nvidia-cuda-runtime-cu12\n",
            "    Found existing installation: nvidia-cuda-runtime-cu12 12.5.82\n",
            "    Uninstalling nvidia-cuda-runtime-cu12-12.5.82:\n",
            "      Successfully uninstalled nvidia-cuda-runtime-cu12-12.5.82\n",
            "  Attempting uninstall: nvidia-cuda-nvrtc-cu12\n",
            "    Found existing installation: nvidia-cuda-nvrtc-cu12 12.5.82\n",
            "    Uninstalling nvidia-cuda-nvrtc-cu12-12.5.82:\n",
            "      Successfully uninstalled nvidia-cuda-nvrtc-cu12-12.5.82\n",
            "  Attempting uninstall: nvidia-cuda-cupti-cu12\n",
            "    Found existing installation: nvidia-cuda-cupti-cu12 12.5.82\n",
            "    Uninstalling nvidia-cuda-cupti-cu12-12.5.82:\n",
            "      Successfully uninstalled nvidia-cuda-cupti-cu12-12.5.82\n",
            "  Attempting uninstall: nvidia-cublas-cu12\n",
            "    Found existing installation: nvidia-cublas-cu12 12.5.3.2\n",
            "    Uninstalling nvidia-cublas-cu12-12.5.3.2:\n",
            "      Successfully uninstalled nvidia-cublas-cu12-12.5.3.2\n",
            "  Attempting uninstall: nvidia-cusparse-cu12\n",
            "    Found existing installation: nvidia-cusparse-cu12 12.5.1.3\n",
            "    Uninstalling nvidia-cusparse-cu12-12.5.1.3:\n",
            "      Successfully uninstalled nvidia-cusparse-cu12-12.5.1.3\n",
            "  Attempting uninstall: nvidia-cudnn-cu12\n",
            "    Found existing installation: nvidia-cudnn-cu12 9.3.0.75\n",
            "    Uninstalling nvidia-cudnn-cu12-9.3.0.75:\n",
            "      Successfully uninstalled nvidia-cudnn-cu12-9.3.0.75\n",
            "  Attempting uninstall: nvidia-cusolver-cu12\n",
            "    Found existing installation: nvidia-cusolver-cu12 11.6.3.83\n",
            "    Uninstalling nvidia-cusolver-cu12-11.6.3.83:\n",
            "      Successfully uninstalled nvidia-cusolver-cu12-11.6.3.83\n",
            "Successfully installed clip-1.0 nvidia-cublas-cu12-12.4.5.8 nvidia-cuda-cupti-cu12-12.4.127 nvidia-cuda-nvrtc-cu12-12.4.127 nvidia-cuda-runtime-cu12-12.4.127 nvidia-cudnn-cu12-9.1.0.70 nvidia-cufft-cu12-11.2.1.3 nvidia-curand-cu12-10.3.5.147 nvidia-cusolver-cu12-11.6.1.9 nvidia-cusparse-cu12-12.3.1.170 nvidia-nvjitlink-cu12-12.4.127\n",
            "Requirement already satisfied: matplotlib in /usr/local/lib/python3.11/dist-packages (3.10.0)\n",
            "Requirement already satisfied: scikit-learn in /usr/local/lib/python3.11/dist-packages (1.6.1)\n",
            "Requirement already satisfied: contourpy>=1.0.1 in /usr/local/lib/python3.11/dist-packages (from matplotlib) (1.3.2)\n",
            "Requirement already satisfied: cycler>=0.10 in /usr/local/lib/python3.11/dist-packages (from matplotlib) (0.12.1)\n",
            "Requirement already satisfied: fonttools>=4.22.0 in /usr/local/lib/python3.11/dist-packages (from matplotlib) (4.58.4)\n",
            "Requirement already satisfied: kiwisolver>=1.3.1 in /usr/local/lib/python3.11/dist-packages (from matplotlib) (1.4.8)\n",
            "Requirement already satisfied: numpy>=1.23 in /usr/local/lib/python3.11/dist-packages (from matplotlib) (2.0.2)\n",
            "Requirement already satisfied: packaging>=20.0 in /usr/local/lib/python3.11/dist-packages (from matplotlib) (24.2)\n",
            "Requirement already satisfied: pillow>=8 in /usr/local/lib/python3.11/dist-packages (from matplotlib) (11.2.1)\n",
            "Requirement already satisfied: pyparsing>=2.3.1 in /usr/local/lib/python3.11/dist-packages (from matplotlib) (3.2.3)\n",
            "Requirement already satisfied: python-dateutil>=2.7 in /usr/local/lib/python3.11/dist-packages (from matplotlib) (2.9.0.post0)\n",
            "Requirement already satisfied: scipy>=1.6.0 in /usr/local/lib/python3.11/dist-packages (from scikit-learn) (1.15.3)\n",
            "Requirement already satisfied: joblib>=1.2.0 in /usr/local/lib/python3.11/dist-packages (from scikit-learn) (1.5.1)\n",
            "Requirement already satisfied: threadpoolctl>=3.1.0 in /usr/local/lib/python3.11/dist-packages (from scikit-learn) (3.6.0)\n",
            "Requirement already satisfied: six>=1.5 in /usr/local/lib/python3.11/dist-packages (from python-dateutil>=2.7->matplotlib) (1.17.0)\n"
          ]
        }
      ],
      "source": [
        "!pip install ftfy regex tqdm\n",
        "!pip install git+https://github.com/openai/CLIP.git\n",
        "!pip install matplotlib scikit-learn\n"
      ]
    },
    {
      "cell_type": "markdown",
      "metadata": {
        "id": "E9c5wUZvuTWP"
      },
      "source": [
        "# ✅ Summary:\n",
        "## Step\tType\tWhat It Evaluates\n",
        "### 1️⃣ Zero-shot\tBaseline\tPre-trained generalization\n",
        "### 2️⃣Prompt Engineering\tPrompt-based\tBoosts zero-shot classification\n",
        "### 3️⃣ Few-shot (5)\tSupervised\tLow-data performance\n",
        "### 4️⃣ [ Optiontal if i wnat better accuracy in Few shot] Few-shot (10)\tSupervised\tEffect of more data\n",
        "### 5️⃣ Contrastive Finetuning\tDomain Adaptation\tImproves CLIP via training\n"
      ]
    },
    {
      "cell_type": "markdown",
      "metadata": {
        "id": "FSGCmVoFDstZ"
      },
      "source": [
        "# 📁 2. Upload and Unzip Dataset\n",
        "\n"
      ]
    },
    {
      "cell_type": "code",
      "execution_count": null,
      "metadata": {
        "colab": {
          "base_uri": "https://localhost:8080/",
          "height": 90
        },
        "id": "9dfn8YHYDmgi",
        "outputId": "288e3622-d1b2-4742-cc46-2c7b7e08ae58"
      },
      "outputs": [
        {
          "output_type": "display_data",
          "data": {
            "text/plain": [
              "<IPython.core.display.HTML object>"
            ],
            "text/html": [
              "\n",
              "     <input type=\"file\" id=\"files-daa46c61-268d-45e7-93ad-ebbd921b5bfe\" name=\"files[]\" multiple disabled\n",
              "        style=\"border:none\" />\n",
              "     <output id=\"result-daa46c61-268d-45e7-93ad-ebbd921b5bfe\">\n",
              "      Upload widget is only available when the cell has been executed in the\n",
              "      current browser session. Please rerun this cell to enable.\n",
              "      </output>\n",
              "      <script>// Copyright 2017 Google LLC\n",
              "//\n",
              "// Licensed under the Apache License, Version 2.0 (the \"License\");\n",
              "// you may not use this file except in compliance with the License.\n",
              "// You may obtain a copy of the License at\n",
              "//\n",
              "//      http://www.apache.org/licenses/LICENSE-2.0\n",
              "//\n",
              "// Unless required by applicable law or agreed to in writing, software\n",
              "// distributed under the License is distributed on an \"AS IS\" BASIS,\n",
              "// WITHOUT WARRANTIES OR CONDITIONS OF ANY KIND, either express or implied.\n",
              "// See the License for the specific language governing permissions and\n",
              "// limitations under the License.\n",
              "\n",
              "/**\n",
              " * @fileoverview Helpers for google.colab Python module.\n",
              " */\n",
              "(function(scope) {\n",
              "function span(text, styleAttributes = {}) {\n",
              "  const element = document.createElement('span');\n",
              "  element.textContent = text;\n",
              "  for (const key of Object.keys(styleAttributes)) {\n",
              "    element.style[key] = styleAttributes[key];\n",
              "  }\n",
              "  return element;\n",
              "}\n",
              "\n",
              "// Max number of bytes which will be uploaded at a time.\n",
              "const MAX_PAYLOAD_SIZE = 100 * 1024;\n",
              "\n",
              "function _uploadFiles(inputId, outputId) {\n",
              "  const steps = uploadFilesStep(inputId, outputId);\n",
              "  const outputElement = document.getElementById(outputId);\n",
              "  // Cache steps on the outputElement to make it available for the next call\n",
              "  // to uploadFilesContinue from Python.\n",
              "  outputElement.steps = steps;\n",
              "\n",
              "  return _uploadFilesContinue(outputId);\n",
              "}\n",
              "\n",
              "// This is roughly an async generator (not supported in the browser yet),\n",
              "// where there are multiple asynchronous steps and the Python side is going\n",
              "// to poll for completion of each step.\n",
              "// This uses a Promise to block the python side on completion of each step,\n",
              "// then passes the result of the previous step as the input to the next step.\n",
              "function _uploadFilesContinue(outputId) {\n",
              "  const outputElement = document.getElementById(outputId);\n",
              "  const steps = outputElement.steps;\n",
              "\n",
              "  const next = steps.next(outputElement.lastPromiseValue);\n",
              "  return Promise.resolve(next.value.promise).then((value) => {\n",
              "    // Cache the last promise value to make it available to the next\n",
              "    // step of the generator.\n",
              "    outputElement.lastPromiseValue = value;\n",
              "    return next.value.response;\n",
              "  });\n",
              "}\n",
              "\n",
              "/**\n",
              " * Generator function which is called between each async step of the upload\n",
              " * process.\n",
              " * @param {string} inputId Element ID of the input file picker element.\n",
              " * @param {string} outputId Element ID of the output display.\n",
              " * @return {!Iterable<!Object>} Iterable of next steps.\n",
              " */\n",
              "function* uploadFilesStep(inputId, outputId) {\n",
              "  const inputElement = document.getElementById(inputId);\n",
              "  inputElement.disabled = false;\n",
              "\n",
              "  const outputElement = document.getElementById(outputId);\n",
              "  outputElement.innerHTML = '';\n",
              "\n",
              "  const pickedPromise = new Promise((resolve) => {\n",
              "    inputElement.addEventListener('change', (e) => {\n",
              "      resolve(e.target.files);\n",
              "    });\n",
              "  });\n",
              "\n",
              "  const cancel = document.createElement('button');\n",
              "  inputElement.parentElement.appendChild(cancel);\n",
              "  cancel.textContent = 'Cancel upload';\n",
              "  const cancelPromise = new Promise((resolve) => {\n",
              "    cancel.onclick = () => {\n",
              "      resolve(null);\n",
              "    };\n",
              "  });\n",
              "\n",
              "  // Wait for the user to pick the files.\n",
              "  const files = yield {\n",
              "    promise: Promise.race([pickedPromise, cancelPromise]),\n",
              "    response: {\n",
              "      action: 'starting',\n",
              "    }\n",
              "  };\n",
              "\n",
              "  cancel.remove();\n",
              "\n",
              "  // Disable the input element since further picks are not allowed.\n",
              "  inputElement.disabled = true;\n",
              "\n",
              "  if (!files) {\n",
              "    return {\n",
              "      response: {\n",
              "        action: 'complete',\n",
              "      }\n",
              "    };\n",
              "  }\n",
              "\n",
              "  for (const file of files) {\n",
              "    const li = document.createElement('li');\n",
              "    li.append(span(file.name, {fontWeight: 'bold'}));\n",
              "    li.append(span(\n",
              "        `(${file.type || 'n/a'}) - ${file.size} bytes, ` +\n",
              "        `last modified: ${\n",
              "            file.lastModifiedDate ? file.lastModifiedDate.toLocaleDateString() :\n",
              "                                    'n/a'} - `));\n",
              "    const percent = span('0% done');\n",
              "    li.appendChild(percent);\n",
              "\n",
              "    outputElement.appendChild(li);\n",
              "\n",
              "    const fileDataPromise = new Promise((resolve) => {\n",
              "      const reader = new FileReader();\n",
              "      reader.onload = (e) => {\n",
              "        resolve(e.target.result);\n",
              "      };\n",
              "      reader.readAsArrayBuffer(file);\n",
              "    });\n",
              "    // Wait for the data to be ready.\n",
              "    let fileData = yield {\n",
              "      promise: fileDataPromise,\n",
              "      response: {\n",
              "        action: 'continue',\n",
              "      }\n",
              "    };\n",
              "\n",
              "    // Use a chunked sending to avoid message size limits. See b/62115660.\n",
              "    let position = 0;\n",
              "    do {\n",
              "      const length = Math.min(fileData.byteLength - position, MAX_PAYLOAD_SIZE);\n",
              "      const chunk = new Uint8Array(fileData, position, length);\n",
              "      position += length;\n",
              "\n",
              "      const base64 = btoa(String.fromCharCode.apply(null, chunk));\n",
              "      yield {\n",
              "        response: {\n",
              "          action: 'append',\n",
              "          file: file.name,\n",
              "          data: base64,\n",
              "        },\n",
              "      };\n",
              "\n",
              "      let percentDone = fileData.byteLength === 0 ?\n",
              "          100 :\n",
              "          Math.round((position / fileData.byteLength) * 100);\n",
              "      percent.textContent = `${percentDone}% done`;\n",
              "\n",
              "    } while (position < fileData.byteLength);\n",
              "  }\n",
              "\n",
              "  // All done.\n",
              "  yield {\n",
              "    response: {\n",
              "      action: 'complete',\n",
              "    }\n",
              "  };\n",
              "}\n",
              "\n",
              "scope.google = scope.google || {};\n",
              "scope.google.colab = scope.google.colab || {};\n",
              "scope.google.colab._files = {\n",
              "  _uploadFiles,\n",
              "  _uploadFilesContinue,\n",
              "};\n",
              "})(self);\n",
              "</script> "
            ]
          },
          "metadata": {}
        },
        {
          "output_type": "stream",
          "name": "stdout",
          "text": [
            "Saving Chest X-Ray Images on Small Datataset (Pneumonia).zip to Chest X-Ray Images on Small Datataset (Pneumonia).zip\n",
            "Pneumonia_Dataset -> 0 files\n"
          ]
        }
      ],
      "source": [
        "from google.colab import files\n",
        "uploaded = files.upload()  # Upload your ZIP file\n",
        "\n",
        "import zipfile\n",
        "import os\n",
        "\n",
        "zip_path = list(uploaded.keys())[0]\n",
        "extract_dir = \"Pneumonia_Dataset\"\n",
        "\n",
        "with zipfile.ZipFile(zip_path, 'r') as zip_ref:\n",
        "    zip_ref.extractall(extract_dir)\n",
        "\n",
        "# Optional: verify structure\n",
        "for root, dirs, files in os.walk(extract_dir):\n",
        "    print(root, \"->\", len(files), \"files\")\n",
        "    break\n"
      ]
    },
    {
      "cell_type": "markdown",
      "source": [
        "# 🔍 Step 1: Check my Folder Structure\n"
      ],
      "metadata": {
        "id": "9kOoRvr1vCxM"
      }
    },
    {
      "cell_type": "code",
      "source": [
        "import os\n",
        "\n",
        "for root, dirs, files in os.walk(\"Pneumonia_Dataset\"):\n",
        "    print(f\"{root} -> {len(files)} files\")\n"
      ],
      "metadata": {
        "colab": {
          "base_uri": "https://localhost:8080/"
        },
        "id": "W0uPNAj_vOXq",
        "outputId": "a88cf041-9bb8-4c7e-b6f8-00057651a7ff"
      },
      "execution_count": null,
      "outputs": [
        {
          "output_type": "stream",
          "name": "stdout",
          "text": [
            "Pneumonia_Dataset -> 0 files\n",
            "Pneumonia_Dataset/Chest X-Ray Images on Small Datataset (Pneumonia) -> 0 files\n",
            "Pneumonia_Dataset/Chest X-Ray Images on Small Datataset (Pneumonia)/Training -> 0 files\n",
            "Pneumonia_Dataset/Chest X-Ray Images on Small Datataset (Pneumonia)/Training/Normal -> 320 files\n",
            "Pneumonia_Dataset/Chest X-Ray Images on Small Datataset (Pneumonia)/Training/PNEUMONIA -> 288 files\n",
            "Pneumonia_Dataset/Chest X-Ray Images on Small Datataset (Pneumonia)/Testig -> 0 files\n",
            "Pneumonia_Dataset/Chest X-Ray Images on Small Datataset (Pneumonia)/Testig/Normal -> 80 files\n",
            "Pneumonia_Dataset/Chest X-Ray Images on Small Datataset (Pneumonia)/Testig/PNEUMONIA -> 72 files\n"
          ]
        }
      ]
    },
    {
      "cell_type": "markdown",
      "metadata": {
        "id": "6VnXJn0HD67K"
      },
      "source": [
        "# 🗂 4. Load Images and Labels ==>Preprocess dataset (images + labels)\n"
      ]
    },
    {
      "cell_type": "code",
      "execution_count": null,
      "metadata": {
        "colab": {
          "base_uri": "https://localhost:8080/"
        },
        "id": "zkhjxeg8DmlP",
        "outputId": "5af0c334-c96a-41f6-f85b-85f2b032ea8c"
      },
      "outputs": [
        {
          "output_type": "stream",
          "name": "stdout",
          "text": [
            "Classes: ['Normal', 'PNEUMONIA']\n",
            "Total samples: 760\n"
          ]
        }
      ],
      "source": [
        "image_paths = []\n",
        "image_labels = []\n",
        "\n",
        "# Correct root path to point to actual folders\n",
        "data_root = os.path.join(\"Pneumonia_Dataset\", \"Chest X-Ray Images on Small Datataset (Pneumonia)\")\n",
        "\n",
        "# Go through both Training and Testing folders\n",
        "for split in [\"Training\", \"Testig\"]:\n",
        "    split_path = os.path.join(data_root, split)\n",
        "    for label in os.listdir(split_path):\n",
        "        label_path = os.path.join(split_path, label)\n",
        "        if os.path.isdir(label_path):\n",
        "            for fname in os.listdir(label_path):\n",
        "                if fname.lower().endswith(('.jpg', '.jpeg', '.png')):\n",
        "                    image_paths.append(os.path.join(label_path, fname))\n",
        "                    image_labels.append(label)\n",
        "\n",
        "classes = sorted(set(image_labels))\n",
        "print(\"Classes:\", classes)\n",
        "print(\"Total samples:\", len(image_paths))\n"
      ]
    },
    {
      "cell_type": "markdown",
      "source": [
        "# 🧠 Clip Model ==> That is why we Did not find the best Accuracy 🙃\n",
        "\n",
        "## 🔹 1. Official CLIP Models by OpenAI are -- > ViT-B/32 ,ViT-B/16, ViT-L/14, ViT-L/14@336px , RN50 , RN101 Are the Official CLIP Models by OpenAI?\n",
        "\n",
        "##👎 These are general-purpose CLIP models trained by OpenAI on 400M image–text pairs from the internet (non-medical). They're great for general vision tasks, but not specialized for medical images.\n",
        "\n",
        "## => 🗣️ Used for: General images — dogs, buildings, cars, memes, etc.\n",
        "## => 🗣️ Not trained on X-rays, CTs, MRIs → worse performance on medical data.\n",
        "\n",
        "## 👀 These are trained on general web image-text pairs:\n",
        "\n",
        "## Model Name\tDescription\n",
        "--------------------------------\n",
        "## 🖖ViT-B/32\t=> Vision Transformer (Base) with 32×32 patches — Fastest, common default.\n",
        "## 🖖ViT-B/16\t=> Higher resolution (16×16 patches) — Better performance.\n",
        "## 🖖ViT-L/14\t=> Larger model, better accuracy — Slower but more powerful.\n",
        "## 🖖ViT-L/14@336px\t=> Larger input size (336px) — Highest accuracy.\n",
        "## 🖖RN50, RN101\t=> ResNet backbones — Older, less popular00 than ViT.\n"
      ],
      "metadata": {
        "id": "ibE3nwPxwIkL"
      }
    },
    {
      "cell_type": "markdown",
      "metadata": {
        "id": "qYfELsD2EGjq"
      },
      "source": [
        "# 1️⃣ Zero-shot\tBaseline\tPre-trained generalization  ==> with No Training\n",
        " ## 📌 For TB Chest X-rays or similar: ⚽ Zero-shot classification , 🏀 Few-shot with own classifier [  Try different classifier ==> SVM, KNN, MLP instrad of LogisticRegression() ] , ⚾ General biomedical tasks [ MedCLIP,  BioViL or GLoRIA ]\n",
        "# 🧪 5. Zero-shot Classification ==> ViT-B/32\t==> 2 prompts/class\t45.66%\n",
        "\n"
      ]
    },
    {
      "cell_type": "markdown",
      "source": [
        "#🧠 3. Load CLIP (ViT-B/32)\n"
      ],
      "metadata": {
        "id": "a4X-6HK8v9ia"
      }
    },
    {
      "cell_type": "code",
      "source": [
        "import torch\n",
        "import clip\n",
        "from PIL import Image\n",
        "\n",
        "device = \"cuda\" if torch.cuda.is_available() else \"cpu\"\n",
        "model, preprocess = clip.load(\"ViT-B/32\", device=device)\n"
      ],
      "metadata": {
        "id": "Zt0uGEnGwAGK",
        "colab": {
          "base_uri": "https://localhost:8080/"
        },
        "outputId": "721a3302-27f4-4517-d5e5-a392a635d490"
      },
      "execution_count": null,
      "outputs": [
        {
          "output_type": "stream",
          "name": "stderr",
          "text": [
            "100%|████████████████████████████████████████| 338M/338M [00:03<00:00, 114MiB/s]\n"
          ]
        }
      ]
    },
    {
      "cell_type": "code",
      "execution_count": null,
      "metadata": {
        "colab": {
          "base_uri": "https://localhost:8080/"
        },
        "id": "AAFV0MOuDmpn",
        "outputId": "a195bffb-ebbd-4ec2-db44-e897b785d8b5"
      },
      "outputs": [
        {
          "output_type": "stream",
          "name": "stdout",
          "text": [
            "Zero-shot Accuracy: 347/760 = 45.66%\n"
          ]
        }
      ],
      "source": [
        "import numpy as np\n",
        "\n",
        "# Define prompt templates\n",
        "def build_prompts(label):\n",
        "    return [\n",
        "        f\"a chest X-ray showing {label.lower()}\",\n",
        "        f\"an X-ray image of {label.lower()} lungs\"\n",
        "    ]\n",
        "\n",
        "# Build tokenized prompts\n",
        "text_descriptions = sum([build_prompts(cls) for cls in classes], [])\n",
        "text_tokens = clip.tokenize(text_descriptions).to(device)\n",
        "\n",
        "# Encode text once\n",
        "with torch.no_grad():\n",
        "    text_features = model.encode_text(text_tokens)\n",
        "    text_features /= text_features.norm(dim=-1, keepdim=True)\n",
        "\n",
        "# Inference loop\n",
        "correct = 0\n",
        "\n",
        "for path, true_label in zip(image_paths, image_labels):\n",
        "    image = preprocess(Image.open(path)).unsqueeze(0).to(device)\n",
        "    with torch.no_grad():\n",
        "        image_feature = model.encode_image(image)\n",
        "        image_feature /= image_feature.norm(dim=-1, keepdim=True)\n",
        "        similarity = (100.0 * image_feature @ text_features.T).softmax(dim=-1)\n",
        "\n",
        "    probs = similarity[0].cpu().numpy()\n",
        "    # Pick highest-prob class by max mean of its prompts\n",
        "    scores_per_class = np.array([\n",
        "        np.mean([probs[i] for i in range(j*2, j*2+2)]) for j in range(len(classes))\n",
        "    ])\n",
        "    predicted_label = classes[np.argmax(scores_per_class)]\n",
        "\n",
        "    if predicted_label == true_label:\n",
        "        correct += 1\n",
        "\n",
        "print(f\"Zero-shot Accuracy: {correct}/{len(image_paths)} = {correct / len(image_paths):.2%}\")\n"
      ]
    },
    {
      "cell_type": "markdown",
      "metadata": {
        "id": "a2cmOqXkEKJa"
      },
      "source": [
        "# 📊 6. Visualize with t-SNE (optional, recommended)"
      ]
    },
    {
      "cell_type": "code",
      "execution_count": null,
      "metadata": {
        "colab": {
          "base_uri": "https://localhost:8080/",
          "height": 545
        },
        "id": "efasKR04DmsB",
        "outputId": "b21167f2-ec43-4bd6-f147-fac7b2224f2e"
      },
      "outputs": [
        {
          "output_type": "display_data",
          "data": {
            "text/plain": [
              "<Figure size 800x600 with 1 Axes>"
            ],
            "image/png": "[encoded data removed]"
          },
          "metadata": {}
        }
      ],
      "source": [
        "from sklearn.manifold import TSNE\n",
        "import matplotlib.pyplot as plt\n",
        "\n",
        "features = []\n",
        "labels = []\n",
        "\n",
        "for path, label in zip(image_paths, image_labels):\n",
        "    image = preprocess(Image.open(path)).unsqueeze(0).to(device)\n",
        "    with torch.no_grad():\n",
        "        feat = model.encode_image(image)\n",
        "        features.append(feat.squeeze().cpu().numpy())\n",
        "        labels.append(label)\n",
        "\n",
        "features = np.array(features)\n",
        "\n",
        "# Run t-SNE\n",
        "tsne = TSNE(n_components=2, random_state=42)\n",
        "features_2d = tsne.fit_transform(features)\n",
        "\n",
        "# Plot\n",
        "plt.figure(figsize=(8, 6))\n",
        "for lbl in set(labels):\n",
        "    idxs = [i for i, l in enumerate(labels) if l == lbl]\n",
        "    plt.scatter(features_2d[idxs, 0], features_2d[idxs, 1], label=lbl)\n",
        "plt.legend()\n",
        "plt.title(\"t-SNE of CLIP Image Embeddings\")\n",
        "plt.show()\n"
      ]
    },
    {
      "cell_type": "markdown",
      "metadata": {
        "id": "5xxKhkA5zF5I"
      },
      "source": [
        "# 2️⃣Prompt Engineering\tPrompt-based\tBoosts zero-shot classification\n"
      ]
    },
    {
      "cell_type": "markdown",
      "metadata": {
        "id": "cLGtLderxLVY"
      },
      "source": [
        "# 🔹Prompt Engineering + Ensemble Zero-shot Prompts\n",
        "##🖖=> This will give 6 prompts per class, instead of 2. ===> ViT-B/32--> 6 prompts/class\t--> Accuracy = 46.71%"
      ]
    },
    {
      "cell_type": "code",
      "execution_count": null,
      "metadata": {
        "colab": {
          "base_uri": "https://localhost:8080/"
        },
        "id": "BSoR3rwAxJXB",
        "outputId": "74b57df7-a677-4b60-cfa9-200198f6db71"
      },
      "outputs": [
        {
          "output_type": "stream",
          "name": "stdout",
          "text": [
            "Zero-shot Accuracy with improved prompts: 355/760 = 46.71%\n"
          ]
        }
      ],
      "source": [
        "import numpy as np\n",
        "\n",
        "def build_prompts(label):\n",
        "    return [\n",
        "        f\"a chest X-ray showing {label.lower()}\",\n",
        "        f\"an X-ray image of {label.lower()} lungs\",\n",
        "        f\"a medical radiograph of lungs with {label.lower()}\",\n",
        "        f\"an image showing {label.lower()} signs in lungs\",\n",
        "        f\"clinical X-ray demonstrating {label.lower()}\",\n",
        "        f\"a diagnostic image of {label.lower()} disease\"\n",
        "    ]\n",
        "\n",
        "\n",
        "# Rebuild text descriptions with the improved prompts\n",
        "text_descriptions = sum([build_prompts(cls) for cls in classes], [])\n",
        "text_tokens = clip.tokenize(text_descriptions).to(device)\n",
        "\n",
        "# Encode text\n",
        "with torch.no_grad():\n",
        "    text_features = model.encode_text(text_tokens)\n",
        "    text_features /= text_features.norm(dim=-1, keepdim=True)\n",
        "\n",
        "# Inference loop with new prompt logic\n",
        "correct = 0\n",
        "total = len(image_paths)\n",
        "\n",
        "for path, true_label in zip(image_paths, image_labels):\n",
        "    image = preprocess(Image.open(path)).unsqueeze(0).to(device)\n",
        "    with torch.no_grad():\n",
        "        image_feature = model.encode_image(image)\n",
        "        image_feature /= image_feature.norm(dim=-1, keepdim=True)\n",
        "        similarity = (100.0 * image_feature @ text_features.T).softmax(dim=-1)\n",
        "\n",
        "    probs = similarity[0].cpu().numpy()\n",
        "\n",
        "    # 6 prompts per class now\n",
        "    prompts_per_class = 6\n",
        "    scores_per_class = np.array([\n",
        "        np.mean([probs[i] for i in range(j * prompts_per_class, (j + 1) * prompts_per_class)])\n",
        "        for j in range(len(classes))\n",
        "    ])\n",
        "    predicted_label = classes[np.argmax(scores_per_class)]\n",
        "\n",
        "    if predicted_label == true_label:\n",
        "        correct += 1\n",
        "\n",
        "accuracy = correct / total\n",
        "print(f\"Zero-shot Accuracy with improved prompts: {correct}/{total} = {accuracy:.2%}\")\n"
      ]
    },
    {
      "cell_type": "markdown",
      "metadata": {
        "id": "leRY9sCYxdi_"
      },
      "source": [
        "# 🖖New Model ==> RN50\t=> 6 prompts/class\t= 53.68%"
      ]
    },
    {
      "cell_type": "markdown",
      "metadata": {
        "id": "uoYlhUejxuLv"
      },
      "source": [
        "## 🧠 3. Load CLIP (RN50)\n"
      ]
    },
    {
      "cell_type": "code",
      "execution_count": null,
      "metadata": {
        "id": "KAKktiJ0xJZR",
        "colab": {
          "base_uri": "https://localhost:8080/"
        },
        "outputId": "813971c9-4625-4010-96f7-a8d0a5ef975a"
      },
      "outputs": [
        {
          "output_type": "stream",
          "name": "stderr",
          "text": [
            "100%|███████████████████████████████████████| 244M/244M [00:04<00:00, 61.8MiB/s]\n"
          ]
        }
      ],
      "source": [
        "import torch\n",
        "import clip\n",
        "from PIL import Image\n",
        "\n",
        "model_name = \"RN50\"  # or try \"ViT-B/16\" or \"ViT-L/14\"\n",
        "model, preprocess = clip.load(model_name, device=device)\n"
      ]
    },
    {
      "cell_type": "markdown",
      "source": [
        "# 😇Load Images and Labels ==>Preprocess dataset (images + labels)"
      ],
      "metadata": {
        "id": "HGDcxqPCbuIw"
      }
    },
    {
      "cell_type": "code",
      "execution_count": null,
      "metadata": {
        "colab": {
          "base_uri": "https://localhost:8080/"
        },
        "id": "Ss_C0YDoxJb4",
        "outputId": "3c88b6d6-0498-4bd3-be9a-d0aaab179c40"
      },
      "outputs": [
        {
          "output_type": "stream",
          "name": "stdout",
          "text": [
            "Classes: ['Normal', 'PNEUMONIA']\n",
            "Total samples: 760\n"
          ]
        }
      ],
      "source": [
        "image_paths = []\n",
        "image_labels = []\n",
        "\n",
        "# Correct root path to point to actual folders\n",
        "data_root = os.path.join(\"Pneumonia_Dataset\", \"Chest X-Ray Images on Small Datataset (Pneumonia)\")\n",
        "\n",
        "# Go through both Training and Testing folders\n",
        "for split in [\"Training\", \"Testig\"]:\n",
        "    split_path = os.path.join(data_root, split)\n",
        "    for label in os.listdir(split_path):\n",
        "        label_path = os.path.join(split_path, label)\n",
        "        if os.path.isdir(label_path):\n",
        "            for fname in os.listdir(label_path):\n",
        "                if fname.lower().endswith(('.jpg', '.jpeg', '.png')):\n",
        "                    image_paths.append(os.path.join(label_path, fname))\n",
        "                    image_labels.append(label)\n",
        "\n",
        "classes = sorted(set(image_labels))\n",
        "print(\"Classes:\", classes)\n",
        "print(\"Total samples:\", len(image_paths))\n"
      ]
    },
    {
      "cell_type": "code",
      "execution_count": null,
      "metadata": {
        "colab": {
          "base_uri": "https://localhost:8080/"
        },
        "id": "ZmGoeS8hxJeQ",
        "outputId": "69666dcd-9a5a-44ca-ef73-e0e92657317c"
      },
      "outputs": [
        {
          "output_type": "stream",
          "name": "stdout",
          "text": [
            "Zero-shot Accuracy with improved prompts: 408/760 = 53.68%\n"
          ]
        }
      ],
      "source": [
        "import numpy as np\n",
        "\n",
        "def build_prompts(label):\n",
        "    return [\n",
        "        f\"a chest X-ray showing {label.lower()}\",\n",
        "        f\"an X-ray image of {label.lower()} lungs\",\n",
        "        f\"a medical radiograph of lungs with {label.lower()}\",\n",
        "        f\"an image showing {label.lower()} signs in lungs\",\n",
        "        f\"clinical X-ray demonstrating {label.lower()}\",\n",
        "        f\"a diagnostic image of {label.lower()} disease\"\n",
        "    ]\n",
        "\n",
        "\n",
        "# Rebuild text descriptions with the improved prompts\n",
        "text_descriptions = sum([build_prompts(cls) for cls in classes], [])\n",
        "text_tokens = clip.tokenize(text_descriptions).to(device)\n",
        "\n",
        "# Encode text\n",
        "with torch.no_grad():\n",
        "    text_features = model.encode_text(text_tokens)\n",
        "    text_features /= text_features.norm(dim=-1, keepdim=True)\n",
        "\n",
        "# Inference loop with new prompt logic\n",
        "correct = 0\n",
        "total = len(image_paths)\n",
        "\n",
        "for path, true_label in zip(image_paths, image_labels):\n",
        "    image = preprocess(Image.open(path)).unsqueeze(0).to(device)\n",
        "    with torch.no_grad():\n",
        "        image_feature = model.encode_image(image)\n",
        "        image_feature /= image_feature.norm(dim=-1, keepdim=True)\n",
        "        similarity = (100.0 * image_feature @ text_features.T).softmax(dim=-1)\n",
        "\n",
        "    probs = similarity[0].cpu().numpy()\n",
        "\n",
        "    # 6 prompts per class now\n",
        "    prompts_per_class = 6\n",
        "    scores_per_class = np.array([\n",
        "        np.mean([probs[i] for i in range(j * prompts_per_class, (j + 1) * prompts_per_class)])\n",
        "        for j in range(len(classes))\n",
        "    ])\n",
        "    predicted_label = classes[np.argmax(scores_per_class)]\n",
        "\n",
        "    if predicted_label == true_label:\n",
        "        correct += 1\n",
        "\n",
        "accuracy = correct / total\n",
        "print(f\"Zero-shot Accuracy with improved prompts: {correct}/{total} = {accuracy:.2%}\")\n"
      ]
    },
    {
      "cell_type": "markdown",
      "metadata": {
        "id": "S4t-ZL_AyII5"
      },
      "source": [
        "# 🖖New Model ==> Vit-B/16 ==> 6 prompts/class = 46.58%"
      ]
    },
    {
      "cell_type": "code",
      "execution_count": null,
      "metadata": {
        "id": "Y_uJyNlIxJhR",
        "colab": {
          "base_uri": "https://localhost:8080/"
        },
        "outputId": "3d9bca0f-ae3f-424b-cfe7-4ba894e7409c"
      },
      "outputs": [
        {
          "output_type": "stream",
          "name": "stderr",
          "text": [
            "100%|████████████████████████████████████████| 335M/335M [00:03<00:00, 100MiB/s]\n"
          ]
        }
      ],
      "source": [
        "import torch\n",
        "import clip\n",
        "from PIL import Image\n",
        "\n",
        "model_name = \"ViT-B/16\"\n",
        "model, preprocess = clip.load(model_name, device=device)\n"
      ]
    },
    {
      "cell_type": "code",
      "execution_count": null,
      "metadata": {
        "colab": {
          "base_uri": "https://localhost:8080/"
        },
        "id": "coR2l5wLxJjp",
        "outputId": "485dfb3d-f08b-423f-e1e3-ed5bf687394e"
      },
      "outputs": [
        {
          "output_type": "stream",
          "name": "stdout",
          "text": [
            "Zero-shot Accuracy with improved prompts: 354/760 = 46.58%\n"
          ]
        }
      ],
      "source": [
        "import numpy as np\n",
        "\n",
        "def build_prompts(label):\n",
        "    return [\n",
        "        f\"a chest X-ray showing {label.lower()}\",\n",
        "        f\"an X-ray image of {label.lower()} lungs\",\n",
        "        f\"a medical radiograph of lungs with {label.lower()}\",\n",
        "        f\"an image showing {label.lower()} signs in lungs\",\n",
        "        f\"clinical X-ray demonstrating {label.lower()}\",\n",
        "        f\"a diagnostic image of {label.lower()} disease\"\n",
        "    ]\n",
        "\n",
        "\n",
        "# Rebuild text descriptions with the improved prompts\n",
        "text_descriptions = sum([build_prompts(cls) for cls in classes], [])\n",
        "text_tokens = clip.tokenize(text_descriptions).to(device)\n",
        "\n",
        "# Encode text\n",
        "with torch.no_grad():\n",
        "    text_features = model.encode_text(text_tokens)\n",
        "    text_features /= text_features.norm(dim=-1, keepdim=True)\n",
        "\n",
        "# Inference loop with new prompt logic\n",
        "correct = 0\n",
        "total = len(image_paths)\n",
        "\n",
        "for path, true_label in zip(image_paths, image_labels):\n",
        "    image = preprocess(Image.open(path)).unsqueeze(0).to(device)\n",
        "    with torch.no_grad():\n",
        "        image_feature = model.encode_image(image)\n",
        "        image_feature /= image_feature.norm(dim=-1, keepdim=True)\n",
        "        similarity = (100.0 * image_feature @ text_features.T).softmax(dim=-1)\n",
        "\n",
        "    probs = similarity[0].cpu().numpy()\n",
        "\n",
        "    # 6 prompts per class now\n",
        "    prompts_per_class = 6\n",
        "    scores_per_class = np.array([\n",
        "        np.mean([probs[i] for i in range(j * prompts_per_class, (j + 1) * prompts_per_class)])\n",
        "        for j in range(len(classes))\n",
        "    ])\n",
        "    predicted_label = classes[np.argmax(scores_per_class)]\n",
        "\n",
        "    if predicted_label == true_label:\n",
        "        correct += 1\n",
        "\n",
        "accuracy = correct / total\n",
        "print(f\"Zero-shot Accuracy with improved prompts: {correct}/{total} = {accuracy:.2%}\")\n"
      ]
    },
    {
      "cell_type": "markdown",
      "source": [
        "# 🖖New Model Vit-L/14 ==> 6 Prompts = 57.50%"
      ],
      "metadata": {
        "id": "5wLrFbdVxt_8"
      }
    },
    {
      "cell_type": "code",
      "source": [
        "import torch\n",
        "import clip\n",
        "from PIL import Image\n",
        "\n",
        "model_name = \"ViT-L/14\"\n",
        "model, preprocess = clip.load(model_name, device=device)\n"
      ],
      "metadata": {
        "id": "CyxNeM6Wx6on",
        "colab": {
          "base_uri": "https://localhost:8080/"
        },
        "outputId": "bbf5bcc7-9ca9-48e9-d0f3-d9b99edc875e"
      },
      "execution_count": null,
      "outputs": [
        {
          "output_type": "stream",
          "name": "stderr",
          "text": [
            "100%|███████████████████████████████████████| 890M/890M [00:14<00:00, 63.0MiB/s]\n"
          ]
        }
      ]
    },
    {
      "cell_type": "code",
      "source": [
        "import numpy as np\n",
        "\n",
        "def build_prompts(label):\n",
        "    return [\n",
        "        f\"a chest X-ray showing {label.lower()}\",\n",
        "        f\"an X-ray image of {label.lower()} lungs\",\n",
        "        f\"a medical radiograph of lungs with {label.lower()}\",\n",
        "        f\"an image showing {label.lower()} signs in lungs\",\n",
        "        f\"clinical X-ray demonstrating {label.lower()}\",\n",
        "        f\"a diagnostic image of {label.lower()} disease\"\n",
        "    ]\n",
        "\n",
        "\n",
        "# Rebuild text descriptions with the improved prompts\n",
        "text_descriptions = sum([build_prompts(cls) for cls in classes], [])\n",
        "text_tokens = clip.tokenize(text_descriptions).to(device)\n",
        "\n",
        "# Encode text\n",
        "with torch.no_grad():\n",
        "    text_features = model.encode_text(text_tokens)\n",
        "    text_features /= text_features.norm(dim=-1, keepdim=True)\n",
        "\n",
        "# Inference loop with new prompt logic\n",
        "correct = 0\n",
        "total = len(image_paths)\n",
        "\n",
        "for path, true_label in zip(image_paths, image_labels):\n",
        "    image = preprocess(Image.open(path)).unsqueeze(0).to(device)\n",
        "    with torch.no_grad():\n",
        "        image_feature = model.encode_image(image)\n",
        "        image_feature /= image_feature.norm(dim=-1, keepdim=True)\n",
        "        similarity = (100.0 * image_feature @ text_features.T).softmax(dim=-1)\n",
        "\n",
        "    probs = similarity[0].cpu().numpy()\n",
        "\n",
        "    # 6 prompts per class now\n",
        "    prompts_per_class = 6\n",
        "    scores_per_class = np.array([\n",
        "        np.mean([probs[i] for i in range(j * prompts_per_class, (j + 1) * prompts_per_class)])\n",
        "        for j in range(len(classes))\n",
        "    ])\n",
        "    predicted_label = classes[np.argmax(scores_per_class)]\n",
        "\n",
        "    if predicted_label == true_label:\n",
        "        correct += 1\n",
        "\n",
        "accuracy = correct / total\n",
        "print(f\"Zero-shot Accuracy with improved prompts: {correct}/{total} = {accuracy:.2%}\")\n"
      ],
      "metadata": {
        "colab": {
          "base_uri": "https://localhost:8080/"
        },
        "id": "tWKsiC2Kx9iA",
        "outputId": "3b70ec52-a0d2-4b7d-ba54-f4dd4e17f5d0"
      },
      "execution_count": null,
      "outputs": [
        {
          "output_type": "stream",
          "name": "stdout",
          "text": [
            "Zero-shot Accuracy with improved prompts: 437/760 = 57.50%\n"
          ]
        }
      ]
    },
    {
      "cell_type": "markdown",
      "source": [
        "## New Model ViT-L/14@336px ==> 6 prompts = 57.37%"
      ],
      "metadata": {
        "id": "iGu4SvDJzADX"
      }
    },
    {
      "cell_type": "code",
      "source": [
        "import torch\n",
        "import clip\n",
        "from PIL import Image\n",
        "\n",
        "model_name = \"ViT-L/14@336px\"\n",
        "model, preprocess = clip.load(model_name, device=device)\n"
      ],
      "metadata": {
        "id": "4KyuHUTex9m_",
        "colab": {
          "base_uri": "https://localhost:8080/"
        },
        "outputId": "22c3eac6-4406-4a1e-fc19-e535a0b5c6d6"
      },
      "execution_count": null,
      "outputs": [
        {
          "output_type": "stream",
          "name": "stderr",
          "text": [
            "100%|███████████████████████████████████████| 891M/891M [00:15<00:00, 59.7MiB/s]\n"
          ]
        }
      ]
    },
    {
      "cell_type": "code",
      "source": [
        "import numpy as np\n",
        "\n",
        "def build_prompts(label):\n",
        "    return [\n",
        "        f\"a chest X-ray showing {label.lower()}\",\n",
        "        f\"an X-ray image of {label.lower()} lungs\",\n",
        "        f\"a medical radiograph of lungs with {label.lower()}\",\n",
        "        f\"an image showing {label.lower()} signs in lungs\",\n",
        "        f\"clinical X-ray demonstrating {label.lower()}\",\n",
        "        f\"a diagnostic image of {label.lower()} disease\"\n",
        "    ]\n",
        "\n",
        "\n",
        "# Rebuild text descriptions with the improved prompts\n",
        "text_descriptions = sum([build_prompts(cls) for cls in classes], [])\n",
        "text_tokens = clip.tokenize(text_descriptions).to(device)\n",
        "\n",
        "# Encode text\n",
        "with torch.no_grad():\n",
        "    text_features = model.encode_text(text_tokens)\n",
        "    text_features /= text_features.norm(dim=-1, keepdim=True)\n",
        "\n",
        "# Inference loop with new prompt logic\n",
        "correct = 0\n",
        "total = len(image_paths)\n",
        "\n",
        "for path, true_label in zip(image_paths, image_labels):\n",
        "    image = preprocess(Image.open(path)).unsqueeze(0).to(device)\n",
        "    with torch.no_grad():\n",
        "        image_feature = model.encode_image(image)\n",
        "        image_feature /= image_feature.norm(dim=-1, keepdim=True)\n",
        "        similarity = (100.0 * image_feature @ text_features.T).softmax(dim=-1)\n",
        "\n",
        "    probs = similarity[0].cpu().numpy()\n",
        "\n",
        "    # 6 prompts per class now\n",
        "    prompts_per_class = 6\n",
        "    scores_per_class = np.array([\n",
        "        np.mean([probs[i] for i in range(j * prompts_per_class, (j + 1) * prompts_per_class)])\n",
        "        for j in range(len(classes))\n",
        "    ])\n",
        "    predicted_label = classes[np.argmax(scores_per_class)]\n",
        "\n",
        "    if predicted_label == true_label:\n",
        "        correct += 1\n",
        "\n",
        "accuracy = correct / total\n",
        "print(f\"Zero-shot Accuracy with improved prompts: {correct}/{total} = {accuracy:.2%}\")\n"
      ],
      "metadata": {
        "colab": {
          "base_uri": "https://localhost:8080/"
        },
        "id": "Yoz_pZBNx9pS",
        "outputId": "69e1e2f2-669d-45e6-cf24-89db07ecb98f"
      },
      "execution_count": null,
      "outputs": [
        {
          "output_type": "stream",
          "name": "stdout",
          "text": [
            "Zero-shot Accuracy with improved prompts: 436/760 = 57.37%\n"
          ]
        }
      ]
    },
    {
      "cell_type": "markdown",
      "metadata": {
        "id": "SSSHm0U5ykpw"
      },
      "source": [
        "# ✅ Summary of Results ====> Max Accuracy Got From\n",
        "## 🧢 Model\tPrompts/Class\tAccuracy\n",
        "### 📍ViT-B/32\t->Prompts/Class= 2\t=> Accuracy = 45.66%\n",
        "### 📍ViT-B/32\t->Prompts/Class= 6\t=> Accuracy = 46.71% 🔻\n",
        "### 📍RN50\t->Prompts/Class= 6\t=> Accuracy = 53.68%\n",
        "### 📍ViT-B/16\t->Prompts/Class= 6\t=> Accuracy = 46.58% 🔻\n",
        "### 📍ViT-l/14\t->Prompts/Class= 6\t=> Accuracy =  50.50%🔻\n",
        "### 📍ViT-l/14@336px\t->Prompts/Class= 6\t=> Accuracy =  57.37%🔻\n"
      ]
    },
    {
      "cell_type": "markdown",
      "metadata": {
        "id": "WIeRtWrXz2wY"
      },
      "source": [
        "#3️⃣ Few-shot (5)\tSupervised\tLow-data performance\n"
      ]
    },
    {
      "cell_type": "markdown",
      "metadata": {
        "id": "tjCpaN_4WBUD"
      },
      "source": [
        "# ✅✅✅  Next Milestone: Few-Shot Learning using CLIP Features + Classifier\n",
        "##--> Split dataset into train (few-shot) and test\n",
        "##--> Extract CLIP image embeddings\n",
        "##--> Train a classifier on few-shot training set\n",
        "##--> Evaluate on test set\n",
        "##--> (Optional) Visualize with t-SNE\n"
      ]
    },
    {
      "cell_type": "markdown",
      "metadata": {
        "id": "KV6y1HEze13l"
      },
      "source": [
        "#🎯Few-shot CLIP + LogisticRegression [ MedCLIP (feature extraction + Logistic Regression) ] == 85.33% [ for 5 shot ]"
      ]
    },
    {
      "cell_type": "markdown",
      "metadata": {
        "id": "nHrxpDmkcDNc"
      },
      "source": [
        "# ✅ 1. Create Few-Shot Train/Test Split\n",
        "### ===> ,We’ll take 5 samples per class for training, rest for testing:"
      ]
    },
    {
      "cell_type": "code",
      "execution_count": 22,
      "metadata": {
        "colab": {
          "base_uri": "https://localhost:8080/"
        },
        "id": "N07QboSwV8wE",
        "outputId": "a152ec5b-bf3c-4bd4-bc60-bfdf57c409a9"
      },
      "outputs": [
        {
          "output_type": "stream",
          "name": "stdout",
          "text": [
            "Few-shot training size: 10\n",
            "Testing size: 750\n"
          ]
        }
      ],
      "source": [
        "from collections import defaultdict\n",
        "import random\n",
        "\n",
        "random.seed(42)\n",
        "\n",
        "# Group images by label\n",
        "label_to_paths = defaultdict(list)\n",
        "for path, label in zip(image_paths, image_labels):\n",
        "    label_to_paths[label].append(path)\n",
        "\n",
        "train_paths, train_labels = [], []\n",
        "test_paths, test_labels = [], []\n",
        "\n",
        "for label, paths in label_to_paths.items():\n",
        "    random.shuffle(paths)\n",
        "    train_samples = paths[:5]  # few-shot\n",
        "    test_samples = paths[5:]\n",
        "\n",
        "    train_paths.extend(train_samples)\n",
        "    train_labels.extend([label] * len(train_samples))\n",
        "\n",
        "    test_paths.extend(test_samples)\n",
        "    test_labels.extend([label] * len(test_samples))\n",
        "\n",
        "print(\"Few-shot training size:\", len(train_paths))\n",
        "print(\"Testing size:\", len(test_paths))\n"
      ]
    },
    {
      "cell_type": "markdown",
      "metadata": {
        "id": "UcnH4sgucI54"
      },
      "source": [
        "# ✅ 2. Extract CLIP Embeddings"
      ]
    },
    {
      "cell_type": "code",
      "execution_count": 23,
      "metadata": {
        "id": "9Dl2Py2wV8y9",
        "colab": {
          "base_uri": "https://localhost:8080/"
        },
        "outputId": "b5324c86-92ac-4919-9b7f-3a9a53319fab"
      },
      "outputs": [
        {
          "output_type": "stream",
          "name": "stdout",
          "text": [
            "Encoded classes: [np.str_('Normal'), np.str_('PNEUMONIA')]\n"
          ]
        }
      ],
      "source": [
        "def extract_image_features(paths):\n",
        "    features = []\n",
        "    for path in paths:\n",
        "        image = preprocess(Image.open(path)).unsqueeze(0).to(device)\n",
        "        with torch.no_grad():\n",
        "            feature = model.encode_image(image).cpu().numpy()\n",
        "        features.append(feature.squeeze())\n",
        "    return np.array(features)\n",
        "\n",
        "X_train = extract_image_features(train_paths)\n",
        "X_test = extract_image_features(test_paths)\n",
        "\n",
        "# Convert labels to integers\n",
        "from sklearn.preprocessing import LabelEncoder\n",
        "le = LabelEncoder()\n",
        "y_train = le.fit_transform(train_labels)\n",
        "y_test = le.transform(test_labels)\n",
        "\n",
        "print(\"Encoded classes:\", list(le.classes_))\n"
      ]
    },
    {
      "cell_type": "markdown",
      "metadata": {
        "id": "ts5BCMPEcRgr"
      },
      "source": [
        "# ✅ 3. Train Classifier"
      ]
    },
    {
      "cell_type": "code",
      "execution_count": 24,
      "metadata": {
        "id": "vr9hJ0h7V82E",
        "colab": {
          "base_uri": "https://localhost:8080/"
        },
        "outputId": "44b609b7-36ca-431b-de4f-1002d504bba5"
      },
      "outputs": [
        {
          "output_type": "stream",
          "name": "stdout",
          "text": [
            "Few-shot CLIP + LogisticRegression Accuracy: 85.33%\n",
            "              precision    recall  f1-score   support\n",
            "\n",
            "      Normal       0.79      0.99      0.88       395\n",
            "   PNEUMONIA       0.99      0.70      0.82       355\n",
            "\n",
            "    accuracy                           0.85       750\n",
            "   macro avg       0.89      0.85      0.85       750\n",
            "weighted avg       0.88      0.85      0.85       750\n",
            "\n"
          ]
        }
      ],
      "source": [
        "from sklearn.linear_model import LogisticRegression\n",
        "from sklearn.metrics import accuracy_score, classification_report\n",
        "\n",
        "clf = LogisticRegression(max_iter=1000)\n",
        "clf.fit(X_train, y_train)\n",
        "\n",
        "y_pred = clf.predict(X_test)\n",
        "\n",
        "acc = accuracy_score(y_test, y_pred)\n",
        "print(f\"Few-shot CLIP + LogisticRegression Accuracy: {acc:.2%}\")\n",
        "print(classification_report(y_test, y_pred, target_names=le.classes_))\n"
      ]
    },
    {
      "cell_type": "markdown",
      "metadata": {
        "id": "UuTPIyGwcVG0"
      },
      "source": [
        "# ✅ 4. (Optional) Visualize Features with t-SNE"
      ]
    },
    {
      "cell_type": "code",
      "execution_count": 25,
      "metadata": {
        "id": "sVnG1QHcV84e",
        "colab": {
          "base_uri": "https://localhost:8080/",
          "height": 545
        },
        "outputId": "c0410e10-3b27-47f5-dc8e-303b0ce16a1f"
      },
      "outputs": [
        {
          "output_type": "display_data",
          "data": {
            "text/plain": [
              "<Figure size 800x600 with 1 Axes>"
            ],
            "image/png": "[encoded data removed]"
          },
          "metadata": {}
        }
      ],
      "source": [
        "from sklearn.manifold import TSNE\n",
        "import matplotlib.pyplot as plt\n",
        "\n",
        "X_all = np.vstack([X_train, X_test])\n",
        "y_all = np.concatenate([y_train, y_test])\n",
        "\n",
        "tsne = TSNE(n_components=2, random_state=42)\n",
        "X_2d = tsne.fit_transform(X_all)\n",
        "\n",
        "plt.figure(figsize=(8, 6))\n",
        "for label_idx in np.unique(y_all):\n",
        "    idxs = y_all == label_idx\n",
        "    plt.scatter(X_2d[idxs, 0], X_2d[idxs, 1], label=le.classes_[label_idx])\n",
        "plt.legend()\n",
        "plt.title(\"CLIP Embeddings (t-SNE projection)\")\n",
        "plt.show()\n"
      ]
    },
    {
      "cell_type": "markdown",
      "metadata": {
        "id": "idyE_IFycvsG"
      },
      "source": [
        "# 🥇 Option 1: Increase Few-shot Size (10 or 20 per class)\n",
        "### ===> ,We’ll take 10 samples per class for training, rest for testing:"
      ]
    },
    {
      "cell_type": "markdown",
      "metadata": {
        "id": "2n7xiTEt2_CA"
      },
      "source": [
        "#5️⃣ Contrastive Finetuning\tDomain Adaptation\tImproves CLIP via training accurcy = 92.24%\n"
      ]
    },
    {
      "cell_type": "markdown",
      "metadata": {
        "id": "7AX9jBYSqXjn"
      },
      "source": [
        "# ✅ 🧪 Option 2: Contrastive fine-tuning (MedCLIP style)\n",
        "## Fine-tune CLIP (MedCLIP-style Contrastive Learning)\n",
        "### Train CLIP with a contrastive loss on your medical dataset.\n",
        "\n",
        "### This can improve performance further, especially for large datasets later.\n",
        "\n",
        "### I can help you set up:\n",
        "\n",
        "### A dual encoder\n",
        "\n",
        "###Text-image pairs (via prompt engineering)\n",
        "\n",
        "### Triplet or InfoNCE-style loss"
      ]
    },
    {
      "cell_type": "code",
      "execution_count": 26,
      "metadata": {
        "id": "mDNNSCBaeg7N",
        "colab": {
          "base_uri": "https://localhost:8080/"
        },
        "outputId": "a9de8cfe-6934-4ed6-92cb-40c180c04752"
      },
      "outputs": [
        {
          "output_type": "stream",
          "name": "stdout",
          "text": [
            "Collecting git+https://github.com/openai/CLIP.git\n",
            "  Cloning https://github.com/openai/CLIP.git to /tmp/pip-req-build-vg4babbp\n",
            "  Running command git clone --filter=blob:none --quiet https://github.com/openai/CLIP.git /tmp/pip-req-build-vg4babbp\n",
            "  Resolved https://github.com/openai/CLIP.git to commit dcba3cb2e2827b402d2701e7e1c7d9fed8a20ef1\n",
            "  Preparing metadata (setup.py) ... \u001b[?25l\u001b[?25hdone\n",
            "Requirement already satisfied: ftfy in /usr/local/lib/python3.11/dist-packages (6.3.1)\n",
            "Requirement already satisfied: regex in /usr/local/lib/python3.11/dist-packages (2024.11.6)\n",
            "Requirement already satisfied: tqdm in /usr/local/lib/python3.11/dist-packages (4.67.1)\n",
            "Requirement already satisfied: wcwidth in /usr/local/lib/python3.11/dist-packages (from ftfy) (0.2.13)\n",
            "Requirement already satisfied: packaging in /usr/local/lib/python3.11/dist-packages (from clip==1.0) (24.2)\n",
            "Requirement already satisfied: torch in /usr/local/lib/python3.11/dist-packages (from clip==1.0) (2.6.0+cu124)\n",
            "Requirement already satisfied: torchvision in /usr/local/lib/python3.11/dist-packages (from clip==1.0) (0.21.0+cu124)\n",
            "Requirement already satisfied: filelock in /usr/local/lib/python3.11/dist-packages (from torch->clip==1.0) (3.18.0)\n",
            "Requirement already satisfied: typing-extensions>=4.10.0 in /usr/local/lib/python3.11/dist-packages (from torch->clip==1.0) (4.14.0)\n",
            "Requirement already satisfied: networkx in /usr/local/lib/python3.11/dist-packages (from torch->clip==1.0) (3.5)\n",
            "Requirement already satisfied: jinja2 in /usr/local/lib/python3.11/dist-packages (from torch->clip==1.0) (3.1.6)\n",
            "Requirement already satisfied: fsspec in /usr/local/lib/python3.11/dist-packages (from torch->clip==1.0) (2025.3.2)\n",
            "Requirement already satisfied: nvidia-cuda-nvrtc-cu12==12.4.127 in /usr/local/lib/python3.11/dist-packages (from torch->clip==1.0) (12.4.127)\n",
            "Requirement already satisfied: nvidia-cuda-runtime-cu12==12.4.127 in /usr/local/lib/python3.11/dist-packages (from torch->clip==1.0) (12.4.127)\n",
            "Requirement already satisfied: nvidia-cuda-cupti-cu12==12.4.127 in /usr/local/lib/python3.11/dist-packages (from torch->clip==1.0) (12.4.127)\n",
            "Requirement already satisfied: nvidia-cudnn-cu12==9.1.0.70 in /usr/local/lib/python3.11/dist-packages (from torch->clip==1.0) (9.1.0.70)\n",
            "Requirement already satisfied: nvidia-cublas-cu12==12.4.5.8 in /usr/local/lib/python3.11/dist-packages (from torch->clip==1.0) (12.4.5.8)\n",
            "Requirement already satisfied: nvidia-cufft-cu12==11.2.1.3 in /usr/local/lib/python3.11/dist-packages (from torch->clip==1.0) (11.2.1.3)\n",
            "Requirement already satisfied: nvidia-curand-cu12==10.3.5.147 in /usr/local/lib/python3.11/dist-packages (from torch->clip==1.0) (10.3.5.147)\n",
            "Requirement already satisfied: nvidia-cusolver-cu12==11.6.1.9 in /usr/local/lib/python3.11/dist-packages (from torch->clip==1.0) (11.6.1.9)\n",
            "Requirement already satisfied: nvidia-cusparse-cu12==12.3.1.170 in /usr/local/lib/python3.11/dist-packages (from torch->clip==1.0) (12.3.1.170)\n",
            "Requirement already satisfied: nvidia-cusparselt-cu12==0.6.2 in /usr/local/lib/python3.11/dist-packages (from torch->clip==1.0) (0.6.2)\n",
            "Requirement already satisfied: nvidia-nccl-cu12==2.21.5 in /usr/local/lib/python3.11/dist-packages (from torch->clip==1.0) (2.21.5)\n",
            "Requirement already satisfied: nvidia-nvtx-cu12==12.4.127 in /usr/local/lib/python3.11/dist-packages (from torch->clip==1.0) (12.4.127)\n",
            "Requirement already satisfied: nvidia-nvjitlink-cu12==12.4.127 in /usr/local/lib/python3.11/dist-packages (from torch->clip==1.0) (12.4.127)\n",
            "Requirement already satisfied: triton==3.2.0 in /usr/local/lib/python3.11/dist-packages (from torch->clip==1.0) (3.2.0)\n",
            "Requirement already satisfied: sympy==1.13.1 in /usr/local/lib/python3.11/dist-packages (from torch->clip==1.0) (1.13.1)\n",
            "Requirement already satisfied: mpmath<1.4,>=1.1.0 in /usr/local/lib/python3.11/dist-packages (from sympy==1.13.1->torch->clip==1.0) (1.3.0)\n",
            "Requirement already satisfied: numpy in /usr/local/lib/python3.11/dist-packages (from torchvision->clip==1.0) (2.0.2)\n",
            "Requirement already satisfied: pillow!=8.3.*,>=5.3.0 in /usr/local/lib/python3.11/dist-packages (from torchvision->clip==1.0) (11.2.1)\n",
            "Requirement already satisfied: MarkupSafe>=2.0 in /usr/local/lib/python3.11/dist-packages (from jinja2->torch->clip==1.0) (3.0.2)\n",
            "Requirement already satisfied: torchvision in /usr/local/lib/python3.11/dist-packages (0.21.0+cu124)\n",
            "Requirement already satisfied: matplotlib in /usr/local/lib/python3.11/dist-packages (3.10.0)\n",
            "Requirement already satisfied: numpy in /usr/local/lib/python3.11/dist-packages (from torchvision) (2.0.2)\n",
            "Requirement already satisfied: torch==2.6.0 in /usr/local/lib/python3.11/dist-packages (from torchvision) (2.6.0+cu124)\n",
            "Requirement already satisfied: pillow!=8.3.*,>=5.3.0 in /usr/local/lib/python3.11/dist-packages (from torchvision) (11.2.1)\n",
            "Requirement already satisfied: filelock in /usr/local/lib/python3.11/dist-packages (from torch==2.6.0->torchvision) (3.18.0)\n",
            "Requirement already satisfied: typing-extensions>=4.10.0 in /usr/local/lib/python3.11/dist-packages (from torch==2.6.0->torchvision) (4.14.0)\n",
            "Requirement already satisfied: networkx in /usr/local/lib/python3.11/dist-packages (from torch==2.6.0->torchvision) (3.5)\n",
            "Requirement already satisfied: jinja2 in /usr/local/lib/python3.11/dist-packages (from torch==2.6.0->torchvision) (3.1.6)\n",
            "Requirement already satisfied: fsspec in /usr/local/lib/python3.11/dist-packages (from torch==2.6.0->torchvision) (2025.3.2)\n",
            "Requirement already satisfied: nvidia-cuda-nvrtc-cu12==12.4.127 in /usr/local/lib/python3.11/dist-packages (from torch==2.6.0->torchvision) (12.4.127)\n",
            "Requirement already satisfied: nvidia-cuda-runtime-cu12==12.4.127 in /usr/local/lib/python3.11/dist-packages (from torch==2.6.0->torchvision) (12.4.127)\n",
            "Requirement already satisfied: nvidia-cuda-cupti-cu12==12.4.127 in /usr/local/lib/python3.11/dist-packages (from torch==2.6.0->torchvision) (12.4.127)\n",
            "Requirement already satisfied: nvidia-cudnn-cu12==9.1.0.70 in /usr/local/lib/python3.11/dist-packages (from torch==2.6.0->torchvision) (9.1.0.70)\n",
            "Requirement already satisfied: nvidia-cublas-cu12==12.4.5.8 in /usr/local/lib/python3.11/dist-packages (from torch==2.6.0->torchvision) (12.4.5.8)\n",
            "Requirement already satisfied: nvidia-cufft-cu12==11.2.1.3 in /usr/local/lib/python3.11/dist-packages (from torch==2.6.0->torchvision) (11.2.1.3)\n",
            "Requirement already satisfied: nvidia-curand-cu12==10.3.5.147 in /usr/local/lib/python3.11/dist-packages (from torch==2.6.0->torchvision) (10.3.5.147)\n",
            "Requirement already satisfied: nvidia-cusolver-cu12==11.6.1.9 in /usr/local/lib/python3.11/dist-packages (from torch==2.6.0->torchvision) (11.6.1.9)\n",
            "Requirement already satisfied: nvidia-cusparse-cu12==12.3.1.170 in /usr/local/lib/python3.11/dist-packages (from torch==2.6.0->torchvision) (12.3.1.170)\n",
            "Requirement already satisfied: nvidia-cusparselt-cu12==0.6.2 in /usr/local/lib/python3.11/dist-packages (from torch==2.6.0->torchvision) (0.6.2)\n",
            "Requirement already satisfied: nvidia-nccl-cu12==2.21.5 in /usr/local/lib/python3.11/dist-packages (from torch==2.6.0->torchvision) (2.21.5)\n",
            "Requirement already satisfied: nvidia-nvtx-cu12==12.4.127 in /usr/local/lib/python3.11/dist-packages (from torch==2.6.0->torchvision) (12.4.127)\n",
            "Requirement already satisfied: nvidia-nvjitlink-cu12==12.4.127 in /usr/local/lib/python3.11/dist-packages (from torch==2.6.0->torchvision) (12.4.127)\n",
            "Requirement already satisfied: triton==3.2.0 in /usr/local/lib/python3.11/dist-packages (from torch==2.6.0->torchvision) (3.2.0)\n",
            "Requirement already satisfied: sympy==1.13.1 in /usr/local/lib/python3.11/dist-packages (from torch==2.6.0->torchvision) (1.13.1)\n",
            "Requirement already satisfied: mpmath<1.4,>=1.1.0 in /usr/local/lib/python3.11/dist-packages (from sympy==1.13.1->torch==2.6.0->torchvision) (1.3.0)\n",
            "Requirement already satisfied: contourpy>=1.0.1 in /usr/local/lib/python3.11/dist-packages (from matplotlib) (1.3.2)\n",
            "Requirement already satisfied: cycler>=0.10 in /usr/local/lib/python3.11/dist-packages (from matplotlib) (0.12.1)\n",
            "Requirement already satisfied: fonttools>=4.22.0 in /usr/local/lib/python3.11/dist-packages (from matplotlib) (4.58.4)\n",
            "Requirement already satisfied: kiwisolver>=1.3.1 in /usr/local/lib/python3.11/dist-packages (from matplotlib) (1.4.8)\n",
            "Requirement already satisfied: packaging>=20.0 in /usr/local/lib/python3.11/dist-packages (from matplotlib) (24.2)\n",
            "Requirement already satisfied: pyparsing>=2.3.1 in /usr/local/lib/python3.11/dist-packages (from matplotlib) (3.2.3)\n",
            "Requirement already satisfied: python-dateutil>=2.7 in /usr/local/lib/python3.11/dist-packages (from matplotlib) (2.9.0.post0)\n",
            "Requirement already satisfied: six>=1.5 in /usr/local/lib/python3.11/dist-packages (from python-dateutil>=2.7->matplotlib) (1.17.0)\n",
            "Requirement already satisfied: MarkupSafe>=2.0 in /usr/local/lib/python3.11/dist-packages (from jinja2->torch==2.6.0->torchvision) (3.0.2)\n"
          ]
        }
      ],
      "source": [
        "!pip install ftfy regex tqdm git+https://github.com/openai/CLIP.git\n",
        "!pip install torchvision matplotlib\n"
      ]
    },
    {
      "cell_type": "markdown",
      "metadata": {
        "id": "GAO-7Tqgr0R1"
      },
      "source": [
        "# 🧠 Define Dataset and Utility Functions"
      ]
    },
    {
      "cell_type": "code",
      "execution_count": 27,
      "metadata": {
        "id": "DXD9x2NSeg9m"
      },
      "outputs": [],
      "source": [
        "import os\n",
        "import random\n",
        "import torch\n",
        "import clip\n",
        "from PIL import Image\n",
        "from torch.utils.data import Dataset, DataLoader\n",
        "import torch.nn as nn\n",
        "import torch.nn.functional as F\n",
        "import torch.optim as optim\n",
        "from tqdm import tqdm\n",
        "\n",
        "# Prompt builder (same as before)\n",
        "def build_prompts(label):\n",
        "    return [f\"A chest X-ray showing {label.lower()}\"]\n",
        "\n",
        "# Custom dataset\n",
        "class CLIPContrastiveDataset(Dataset):\n",
        "    def __init__(self, image_paths, image_labels, preprocess, classes):\n",
        "        self.image_paths = image_paths\n",
        "        self.image_labels = image_labels\n",
        "        self.preprocess = preprocess\n",
        "        self.prompts = []\n",
        "        self.classes = classes\n",
        "\n",
        "        for label in image_labels:\n",
        "            self.prompts.append(random.choice(build_prompts(label)))\n",
        "\n",
        "    def __len__(self):\n",
        "        return len(self.image_paths)\n",
        "\n",
        "    def __getitem__(self, idx):\n",
        "        image = self.preprocess(Image.open(self.image_paths[idx]))\n",
        "        text = self.prompts[idx]\n",
        "        return image, text\n"
      ]
    },
    {
      "cell_type": "markdown",
      "metadata": {
        "id": "WvV6eMERr3BP"
      },
      "source": [
        "# 🧪 Training Loop (with Contrastive Loss)"
      ]
    },
    {
      "cell_type": "code",
      "execution_count": 28,
      "metadata": {
        "id": "aoS4P3w3eg_w"
      },
      "outputs": [],
      "source": [
        "def train_clip_contrastive(model, dataset, device, epochs=5, batch_size=32, lr=1e-5):\n",
        "    model.eval()\n",
        "\n",
        "    dataloader = DataLoader(dataset, batch_size=batch_size, shuffle=True)\n",
        "\n",
        "    # Freeze all original CLIP parameters\n",
        "    for param in model.parameters():\n",
        "        param.requires_grad = False\n",
        "\n",
        "    # New trainable projection heads\n",
        "    text_proj = nn.Linear(model.token_embedding.embedding_dim, 512).to(device)\n",
        "    image_proj = nn.Linear(model.visual.output_dim, 512).to(device)\n",
        "\n",
        "    optimizer = optim.AdamW(list(text_proj.parameters()) + list(image_proj.parameters()), lr=lr)\n",
        "\n",
        "    for epoch in range(epochs):\n",
        "        model.eval()\n",
        "        text_proj.train()\n",
        "        image_proj.train()\n",
        "\n",
        "        total_loss = 0\n",
        "        for images, texts in tqdm(dataloader, desc=f\"Epoch {epoch+1}/{epochs}\"):\n",
        "            images = images.to(device)\n",
        "            texts = clip.tokenize(texts).to(device)\n",
        "\n",
        "            with torch.no_grad():\n",
        "                image_features = model.encode_image(images)\n",
        "                text_features = model.encode_text(texts)\n",
        "\n",
        "            image_features = F.normalize(image_proj(image_features), dim=-1)\n",
        "            text_features = F.normalize(text_proj(text_features), dim=-1)\n",
        "\n",
        "            # Contrastive InfoNCE loss\n",
        "            logits = image_features @ text_features.T\n",
        "            labels = torch.arange(len(logits)).to(device)\n",
        "            loss_i = F.cross_entropy(logits, labels)\n",
        "            loss_t = F.cross_entropy(logits.T, labels)\n",
        "            loss = (loss_i + loss_t) / 2\n",
        "\n",
        "            optimizer.zero_grad()\n",
        "            loss.backward()\n",
        "            optimizer.step()\n",
        "\n",
        "            total_loss += loss.item()\n",
        "\n",
        "        print(f\"Epoch {epoch+1}: Loss = {total_loss/len(dataloader):.4f}\")\n",
        "\n",
        "    return text_proj, image_proj\n"
      ]
    },
    {
      "cell_type": "markdown",
      "metadata": {
        "id": "gyyKui6BsFQw"
      },
      "source": [
        "# 🔍 Evaluation after Fine-tuning"
      ]
    },
    {
      "cell_type": "code",
      "execution_count": 29,
      "metadata": {
        "id": "2nC_v0QyehBq"
      },
      "outputs": [],
      "source": [
        "def evaluate_zero_shot(model, image_paths, image_labels, classes, preprocess, device, text_proj, image_proj):\n",
        "    def build_prompts(label):\n",
        "        return [f\"A chest X-ray showing {label.lower()}\"]\n",
        "\n",
        "    prompts = [random.choice(build_prompts(cls)) for cls in classes]\n",
        "    tokens = clip.tokenize(prompts).to(device)\n",
        "\n",
        "    with torch.no_grad():\n",
        "        text_features = model.encode_text(tokens)\n",
        "        text_features = F.normalize(text_proj(text_features), dim=-1)\n",
        "\n",
        "    correct = 0\n",
        "    for path, true_label in zip(image_paths, image_labels):\n",
        "        image = preprocess(Image.open(path)).unsqueeze(0).to(device)\n",
        "        with torch.no_grad():\n",
        "            img_feat = model.encode_image(image)\n",
        "            img_feat = F.normalize(image_proj(img_feat), dim=-1)\n",
        "\n",
        "            similarity = img_feat @ text_features.T\n",
        "            pred_idx = similarity.argmax().item()\n",
        "            pred_label = classes[pred_idx]\n",
        "\n",
        "        if pred_label == true_label:\n",
        "            correct += 1\n",
        "\n",
        "    print(f\"Post-Fine-tuning Accuracy: {correct}/{len(image_paths)} = {correct / len(image_paths):.2%}\")\n"
      ]
    },
    {
      "cell_type": "markdown",
      "metadata": {
        "id": "OqkHRY6lsIZK"
      },
      "source": [
        "# 🔄 Run Everything"
      ]
    },
    {
      "cell_type": "code",
      "execution_count": 30,
      "metadata": {
        "id": "fg1_9CMJehFf",
        "colab": {
          "base_uri": "https://localhost:8080/"
        },
        "outputId": "486c6c5a-80b5-4765-87b8-db74ba2402f0"
      },
      "outputs": [
        {
          "output_type": "stream",
          "name": "stderr",
          "text": [
            "Epoch 1/5: 100%|██████████| 24/24 [04:03<00:00, 10.15s/it]\n"
          ]
        },
        {
          "output_type": "stream",
          "name": "stdout",
          "text": [
            "Epoch 1: Loss = 3.4524\n"
          ]
        },
        {
          "output_type": "stream",
          "name": "stderr",
          "text": [
            "Epoch 2/5: 100%|██████████| 24/24 [03:42<00:00,  9.27s/it]\n"
          ]
        },
        {
          "output_type": "stream",
          "name": "stdout",
          "text": [
            "Epoch 2: Loss = 3.4499\n"
          ]
        },
        {
          "output_type": "stream",
          "name": "stderr",
          "text": [
            "Epoch 3/5: 100%|██████████| 24/24 [03:36<00:00,  9.01s/it]\n"
          ]
        },
        {
          "output_type": "stream",
          "name": "stdout",
          "text": [
            "Epoch 3: Loss = 3.4463\n"
          ]
        },
        {
          "output_type": "stream",
          "name": "stderr",
          "text": [
            "Epoch 4/5: 100%|██████████| 24/24 [03:33<00:00,  8.89s/it]\n"
          ]
        },
        {
          "output_type": "stream",
          "name": "stdout",
          "text": [
            "Epoch 4: Loss = 3.4404\n"
          ]
        },
        {
          "output_type": "stream",
          "name": "stderr",
          "text": [
            "Epoch 5/5: 100%|██████████| 24/24 [03:33<00:00,  8.90s/it]\n"
          ]
        },
        {
          "output_type": "stream",
          "name": "stdout",
          "text": [
            "Epoch 5: Loss = 3.4294\n",
            "Post-Fine-tuning Accuracy: 701/760 = 92.24%\n"
          ]
        }
      ],
      "source": [
        "# Load CLIP model\n",
        "model, preprocess = clip.load(\"ViT-B/32\", device=device)\n",
        "\n",
        "# Prepare dataset\n",
        "dataset = CLIPContrastiveDataset(image_paths, image_labels, preprocess, classes)\n",
        "\n",
        "# Train\n",
        "text_proj, image_proj = train_clip_contrastive(model, dataset, device)\n",
        "\n",
        "# Evaluate\n",
        "evaluate_zero_shot(model, image_paths, image_labels, classes, preprocess, device, text_proj, image_proj)\n"
      ]
    },
    {
      "cell_type": "markdown",
      "source": [
        "# 🔁 1. Use More Epochs & Larger Batch Size\n",
        "\n",
        "#   Your loss is decreasing slowly but steadily. The loss ~3.46 means the model still struggles to differentiate.\n",
        "# In train_clip_contrastive:\n",
        "#===================================\n",
        "# epochs = 20   or at least 10\n",
        "# batch_size = 64   if GPU allows"
      ],
      "metadata": {
        "id": "gggYqAHFhY7x"
      }
    },
    {
      "cell_type": "markdown",
      "source": [
        "# ✅ Summary of Progress So Far\n",
        "# Step\tResult\n",
        "# Zero-shot CLIP baseline\t✅ 45.66% accuracy\n",
        "# Few-shot CLIP + Logistic Regression\t✅ 85.33% accuracy with 5 samples\n",
        "# Contrastive fine-tuning (MedCLIP style)\t✅ Boosted to 92.24% post-fine-tuning"
      ],
      "metadata": {
        "id": "KUg4OEJKhdWU"
      }
    },
    {
      "cell_type": "code",
      "execution_count": null,
      "metadata": {
        "id": "byBUQQNoehHn"
      },
      "outputs": [],
      "source": []
    },
    {
      "cell_type": "code",
      "execution_count": null,
      "metadata": {
        "id": "p0WH206WehJo"
      },
      "outputs": [],
      "source": []
    },
    {
      "cell_type": "code",
      "execution_count": null,
      "metadata": {
        "id": "8w3z4jPJehLp"
      },
      "outputs": [],
      "source": []
    },
    {
      "cell_type": "code",
      "execution_count": null,
      "metadata": {
        "id": "OuJ3D8VOehOJ"
      },
      "outputs": [],
      "source": []
    },
    {
      "cell_type": "code",
      "execution_count": null,
      "metadata": {
        "id": "8VSEW5s_nz2e"
      },
      "outputs": [],
      "source": []
    },
    {
      "cell_type": "code",
      "execution_count": null,
      "metadata": {
        "id": "Q-UYM_86nz41"
      },
      "outputs": [],
      "source": []
    },
    {
      "cell_type": "code",
      "execution_count": null,
      "metadata": {
        "id": "vfiL5FLanz7R"
      },
      "outputs": [],
      "source": []
    },
    {
      "cell_type": "code",
      "execution_count": null,
      "metadata": {
        "id": "hjxhPEdznz-e"
      },
      "outputs": [],
      "source": []
    },
    {
      "cell_type": "code",
      "execution_count": null,
      "metadata": {
        "id": "O5tqlCNZ3OAW"
      },
      "outputs": [],
      "source": []
    },
    {
      "cell_type": "code",
      "execution_count": null,
      "metadata": {
        "id": "ysNB8gov3ODU"
      },
      "outputs": [],
      "source": []
    },
    {
      "cell_type": "code",
      "execution_count": null,
      "metadata": {
        "id": "4wgXfe1G3OGS"
      },
      "outputs": [],
      "source": []
    },
    {
      "cell_type": "code",
      "execution_count": null,
      "metadata": {
        "id": "VqI561nO3OJr"
      },
      "outputs": [],
      "source": []
    },
    {
      "cell_type": "code",
      "execution_count": null,
      "metadata": {
        "id": "XDxRB8BQ3OM6"
      },
      "outputs": [],
      "source": []
    },
    {
      "cell_type": "code",
      "execution_count": null,
      "metadata": {
        "id": "3ntDtnwx3OPp"
      },
      "outputs": [],
      "source": []
    },
    {
      "cell_type": "code",
      "execution_count": null,
      "metadata": {
        "id": "GSsZ4Mnc3OTR"
      },
      "outputs": [],
      "source": []
    },
    {
      "cell_type": "code",
      "execution_count": null,
      "metadata": {
        "id": "C1_sQ6UK3OWL"
      },
      "outputs": [],
      "source": []
    },
    {
      "cell_type": "code",
      "execution_count": null,
      "metadata": {
        "id": "Ws5TROXF3OZH"
      },
      "outputs": [],
      "source": []
    },
    {
      "cell_type": "code",
      "execution_count": null,
      "metadata": {
        "id": "gb5eXlKH3Obv"
      },
      "outputs": [],
      "source": []
    },
    {
      "cell_type": "code",
      "execution_count": null,
      "metadata": {
        "id": "grgP5fzd3Oeb"
      },
      "outputs": [],
      "source": []
    },
    {
      "cell_type": "markdown",
      "metadata": {
        "id": "peG9jAQqnR6e"
      },
      "source": []
    },
    {
      "cell_type": "code",
      "execution_count": null,
      "metadata": {
        "id": "rdLpzOzzSkjp"
      },
      "outputs": [],
      "source": []
    }
  ],
  "metadata": {
    "colab": {
      "provenance": []
    },
    "kernelspec": {
      "display_name": "Python 3",
      "name": "python3"
    },
    "language_info": {
      "name": "python"
    }
  },
  "nbformat": 4,
  "nbformat_minor": 0
}