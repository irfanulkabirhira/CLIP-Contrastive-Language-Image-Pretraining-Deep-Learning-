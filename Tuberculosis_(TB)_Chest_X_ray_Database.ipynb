{
  "cells": [
    {
      "cell_type": "markdown",
      "metadata": {
        "id": "3wLTXc8PUmaS"
      },
      "source": [
        "# ✅ Install dependencies"
      ]
    },
    {
      "cell_type": "code",
      "execution_count": 1,
      "metadata": {
        "colab": {
          "base_uri": "https://localhost:8080/"
        },
        "id": "723NWgAqDhtQ",
        "outputId": "45fe6bc5-8949-4ebd-8984-313e5c885c24"
      },
      "outputs": [
        {
          "output_type": "stream",
          "name": "stdout",
          "text": [
            "Collecting ftfy\n",
            "  Downloading ftfy-6.3.1-py3-none-any.whl.metadata (7.3 kB)\n",
            "Requirement already satisfied: regex in /usr/local/lib/python3.11/dist-packages (2024.11.6)\n",
            "Requirement already satisfied: tqdm in /usr/local/lib/python3.11/dist-packages (4.67.1)\n",
            "Requirement already satisfied: wcwidth in /usr/local/lib/python3.11/dist-packages (from ftfy) (0.2.13)\n",
            "Downloading ftfy-6.3.1-py3-none-any.whl (44 kB)\n",
            "\u001b[?25l   \u001b[90m━━━━━━━━━━━━━━━━━━━━━━━━━━━━━━━━━━━━━━━━\u001b[0m \u001b[32m0.0/44.8 kB\u001b[0m \u001b[31m?\u001b[0m eta \u001b[36m-:--:--\u001b[0m\r\u001b[2K   \u001b[90m━━━━━━━━━━━━━━━━━━━━━━━━━━━━━━━━━━━━━━━━\u001b[0m \u001b[32m44.8/44.8 kB\u001b[0m \u001b[31m2.6 MB/s\u001b[0m eta \u001b[36m0:00:00\u001b[0m\n",
            "\u001b[?25hInstalling collected packages: ftfy\n",
            "Successfully installed ftfy-6.3.1\n",
            "Collecting git+https://github.com/openai/CLIP.git\n",
            "  Cloning https://github.com/openai/CLIP.git to /tmp/pip-req-build-w2emxnez\n",
            "  Running command git clone --filter=blob:none --quiet https://github.com/openai/CLIP.git /tmp/pip-req-build-w2emxnez\n",
            "  Resolved https://github.com/openai/CLIP.git to commit dcba3cb2e2827b402d2701e7e1c7d9fed8a20ef1\n",
            "  Preparing metadata (setup.py) ... \u001b[?25l\u001b[?25hdone\n",
            "Requirement already satisfied: ftfy in /usr/local/lib/python3.11/dist-packages (from clip==1.0) (6.3.1)\n",
            "Requirement already satisfied: packaging in /usr/local/lib/python3.11/dist-packages (from clip==1.0) (24.2)\n",
            "Requirement already satisfied: regex in /usr/local/lib/python3.11/dist-packages (from clip==1.0) (2024.11.6)\n",
            "Requirement already satisfied: tqdm in /usr/local/lib/python3.11/dist-packages (from clip==1.0) (4.67.1)\n",
            "Requirement already satisfied: torch in /usr/local/lib/python3.11/dist-packages (from clip==1.0) (2.6.0+cu124)\n",
            "Requirement already satisfied: torchvision in /usr/local/lib/python3.11/dist-packages (from clip==1.0) (0.21.0+cu124)\n",
            "Requirement already satisfied: wcwidth in /usr/local/lib/python3.11/dist-packages (from ftfy->clip==1.0) (0.2.13)\n",
            "Requirement already satisfied: filelock in /usr/local/lib/python3.11/dist-packages (from torch->clip==1.0) (3.18.0)\n",
            "Requirement already satisfied: typing-extensions>=4.10.0 in /usr/local/lib/python3.11/dist-packages (from torch->clip==1.0) (4.14.0)\n",
            "Requirement already satisfied: networkx in /usr/local/lib/python3.11/dist-packages (from torch->clip==1.0) (3.5)\n",
            "Requirement already satisfied: jinja2 in /usr/local/lib/python3.11/dist-packages (from torch->clip==1.0) (3.1.6)\n",
            "Requirement already satisfied: fsspec in /usr/local/lib/python3.11/dist-packages (from torch->clip==1.0) (2025.3.2)\n",
            "Collecting nvidia-cuda-nvrtc-cu12==12.4.127 (from torch->clip==1.0)\n",
            "  Downloading nvidia_cuda_nvrtc_cu12-12.4.127-py3-none-manylinux2014_x86_64.whl.metadata (1.5 kB)\n",
            "Collecting nvidia-cuda-runtime-cu12==12.4.127 (from torch->clip==1.0)\n",
            "  Downloading nvidia_cuda_runtime_cu12-12.4.127-py3-none-manylinux2014_x86_64.whl.metadata (1.5 kB)\n",
            "Collecting nvidia-cuda-cupti-cu12==12.4.127 (from torch->clip==1.0)\n",
            "  Downloading nvidia_cuda_cupti_cu12-12.4.127-py3-none-manylinux2014_x86_64.whl.metadata (1.6 kB)\n",
            "Collecting nvidia-cudnn-cu12==9.1.0.70 (from torch->clip==1.0)\n",
            "  Downloading nvidia_cudnn_cu12-9.1.0.70-py3-none-manylinux2014_x86_64.whl.metadata (1.6 kB)\n",
            "Collecting nvidia-cublas-cu12==12.4.5.8 (from torch->clip==1.0)\n",
            "  Downloading nvidia_cublas_cu12-12.4.5.8-py3-none-manylinux2014_x86_64.whl.metadata (1.5 kB)\n",
            "Collecting nvidia-cufft-cu12==11.2.1.3 (from torch->clip==1.0)\n",
            "  Downloading nvidia_cufft_cu12-11.2.1.3-py3-none-manylinux2014_x86_64.whl.metadata (1.5 kB)\n",
            "Collecting nvidia-curand-cu12==10.3.5.147 (from torch->clip==1.0)\n",
            "  Downloading nvidia_curand_cu12-10.3.5.147-py3-none-manylinux2014_x86_64.whl.metadata (1.5 kB)\n",
            "Collecting nvidia-cusolver-cu12==11.6.1.9 (from torch->clip==1.0)\n",
            "  Downloading nvidia_cusolver_cu12-11.6.1.9-py3-none-manylinux2014_x86_64.whl.metadata (1.6 kB)\n",
            "Collecting nvidia-cusparse-cu12==12.3.1.170 (from torch->clip==1.0)\n",
            "  Downloading nvidia_cusparse_cu12-12.3.1.170-py3-none-manylinux2014_x86_64.whl.metadata (1.6 kB)\n",
            "Requirement already satisfied: nvidia-cusparselt-cu12==0.6.2 in /usr/local/lib/python3.11/dist-packages (from torch->clip==1.0) (0.6.2)\n",
            "Requirement already satisfied: nvidia-nccl-cu12==2.21.5 in /usr/local/lib/python3.11/dist-packages (from torch->clip==1.0) (2.21.5)\n",
            "Requirement already satisfied: nvidia-nvtx-cu12==12.4.127 in /usr/local/lib/python3.11/dist-packages (from torch->clip==1.0) (12.4.127)\n",
            "Collecting nvidia-nvjitlink-cu12==12.4.127 (from torch->clip==1.0)\n",
            "  Downloading nvidia_nvjitlink_cu12-12.4.127-py3-none-manylinux2014_x86_64.whl.metadata (1.5 kB)\n",
            "Requirement already satisfied: triton==3.2.0 in /usr/local/lib/python3.11/dist-packages (from torch->clip==1.0) (3.2.0)\n",
            "Requirement already satisfied: sympy==1.13.1 in /usr/local/lib/python3.11/dist-packages (from torch->clip==1.0) (1.13.1)\n",
            "Requirement already satisfied: mpmath<1.4,>=1.1.0 in /usr/local/lib/python3.11/dist-packages (from sympy==1.13.1->torch->clip==1.0) (1.3.0)\n",
            "Requirement already satisfied: numpy in /usr/local/lib/python3.11/dist-packages (from torchvision->clip==1.0) (2.0.2)\n",
            "Requirement already satisfied: pillow!=8.3.*,>=5.3.0 in /usr/local/lib/python3.11/dist-packages (from torchvision->clip==1.0) (11.2.1)\n",
            "Requirement already satisfied: MarkupSafe>=2.0 in /usr/local/lib/python3.11/dist-packages (from jinja2->torch->clip==1.0) (3.0.2)\n",
            "Downloading nvidia_cublas_cu12-12.4.5.8-py3-none-manylinux2014_x86_64.whl (363.4 MB)\n",
            "\u001b[2K   \u001b[90m━━━━━━━━━━━━━━━━━━━━━━━━━━━━━━━━━━━━━━━━\u001b[0m \u001b[32m363.4/363.4 MB\u001b[0m \u001b[31m3.6 MB/s\u001b[0m eta \u001b[36m0:00:00\u001b[0m\n",
            "\u001b[?25hDownloading nvidia_cuda_cupti_cu12-12.4.127-py3-none-manylinux2014_x86_64.whl (13.8 MB)\n",
            "\u001b[2K   \u001b[90m━━━━━━━━━━━━━━━━━━━━━━━━━━━━━━━━━━━━━━━━\u001b[0m \u001b[32m13.8/13.8 MB\u001b[0m \u001b[31m51.8 MB/s\u001b[0m eta \u001b[36m0:00:00\u001b[0m\n",
            "\u001b[?25hDownloading nvidia_cuda_nvrtc_cu12-12.4.127-py3-none-manylinux2014_x86_64.whl (24.6 MB)\n",
            "\u001b[2K   \u001b[90m━━━━━━━━━━━━━━━━━━━━━━━━━━━━━━━━━━━━━━━━\u001b[0m \u001b[32m24.6/24.6 MB\u001b[0m \u001b[31m28.9 MB/s\u001b[0m eta \u001b[36m0:00:00\u001b[0m\n",
            "\u001b[?25hDownloading nvidia_cuda_runtime_cu12-12.4.127-py3-none-manylinux2014_x86_64.whl (883 kB)\n",
            "\u001b[2K   \u001b[90m━━━━━━━━━━━━━━━━━━━━━━━━━━━━━━━━━━━━━━━━\u001b[0m \u001b[32m883.7/883.7 kB\u001b[0m \u001b[31m36.4 MB/s\u001b[0m eta \u001b[36m0:00:00\u001b[0m\n",
            "\u001b[?25hDownloading nvidia_cudnn_cu12-9.1.0.70-py3-none-manylinux2014_x86_64.whl (664.8 MB)\n",
            "\u001b[2K   \u001b[90m━━━━━━━━━━━━━━━━━━━━━━━━━━━━━━━━━━━━━━━━\u001b[0m \u001b[32m664.8/664.8 MB\u001b[0m \u001b[31m1.3 MB/s\u001b[0m eta \u001b[36m0:00:00\u001b[0m\n",
            "\u001b[?25hDownloading nvidia_cufft_cu12-11.2.1.3-py3-none-manylinux2014_x86_64.whl (211.5 MB)\n",
            "\u001b[2K   \u001b[90m━━━━━━━━━━━━━━━━━━━━━━━━━━━━━━━━━━━━━━━━\u001b[0m \u001b[32m211.5/211.5 MB\u001b[0m \u001b[31m5.5 MB/s\u001b[0m eta \u001b[36m0:00:00\u001b[0m\n",
            "\u001b[?25hDownloading nvidia_curand_cu12-10.3.5.147-py3-none-manylinux2014_x86_64.whl (56.3 MB)\n",
            "\u001b[2K   \u001b[90m━━━━━━━━━━━━━━━━━━━━━━━━━━━━━━━━━━━━━━━━\u001b[0m \u001b[32m56.3/56.3 MB\u001b[0m \u001b[31m14.2 MB/s\u001b[0m eta \u001b[36m0:00:00\u001b[0m\n",
            "\u001b[?25hDownloading nvidia_cusolver_cu12-11.6.1.9-py3-none-manylinux2014_x86_64.whl (127.9 MB)\n",
            "\u001b[2K   \u001b[90m━━━━━━━━━━━━━━━━━━━━━━━━━━━━━━━━━━━━━━━━\u001b[0m \u001b[32m127.9/127.9 MB\u001b[0m \u001b[31m7.8 MB/s\u001b[0m eta \u001b[36m0:00:00\u001b[0m\n",
            "\u001b[?25hDownloading nvidia_cusparse_cu12-12.3.1.170-py3-none-manylinux2014_x86_64.whl (207.5 MB)\n",
            "\u001b[2K   \u001b[90m━━━━━━━━━━━━━━━━━━━━━━━━━━━━━━━━━━━━━━━━\u001b[0m \u001b[32m207.5/207.5 MB\u001b[0m \u001b[31m5.7 MB/s\u001b[0m eta \u001b[36m0:00:00\u001b[0m\n",
            "\u001b[?25hDownloading nvidia_nvjitlink_cu12-12.4.127-py3-none-manylinux2014_x86_64.whl (21.1 MB)\n",
            "\u001b[2K   \u001b[90m━━━━━━━━━━━━━━━━━━━━━━━━━━━━━━━━━━━━━━━━\u001b[0m \u001b[32m21.1/21.1 MB\u001b[0m \u001b[31m64.2 MB/s\u001b[0m eta \u001b[36m0:00:00\u001b[0m\n",
            "\u001b[?25hBuilding wheels for collected packages: clip\n",
            "  Building wheel for clip (setup.py) ... \u001b[?25l\u001b[?25hdone\n",
            "  Created wheel for clip: filename=clip-1.0-py3-none-any.whl size=1369490 sha256=920f4697fac032826ebcdbb9017839ee633e3796a4888085ec67a79cc8ef0887\n",
            "  Stored in directory: /tmp/pip-ephem-wheel-cache-smczxl0j/wheels/3f/7c/a4/9b490845988bf7a4db33674d52f709f088f64392063872eb9a\n",
            "Successfully built clip\n",
            "Installing collected packages: nvidia-nvjitlink-cu12, nvidia-curand-cu12, nvidia-cufft-cu12, nvidia-cuda-runtime-cu12, nvidia-cuda-nvrtc-cu12, nvidia-cuda-cupti-cu12, nvidia-cublas-cu12, nvidia-cusparse-cu12, nvidia-cudnn-cu12, nvidia-cusolver-cu12, clip\n",
            "  Attempting uninstall: nvidia-nvjitlink-cu12\n",
            "    Found existing installation: nvidia-nvjitlink-cu12 12.5.82\n",
            "    Uninstalling nvidia-nvjitlink-cu12-12.5.82:\n",
            "      Successfully uninstalled nvidia-nvjitlink-cu12-12.5.82\n",
            "  Attempting uninstall: nvidia-curand-cu12\n",
            "    Found existing installation: nvidia-curand-cu12 10.3.6.82\n",
            "    Uninstalling nvidia-curand-cu12-10.3.6.82:\n",
            "      Successfully uninstalled nvidia-curand-cu12-10.3.6.82\n",
            "  Attempting uninstall: nvidia-cufft-cu12\n",
            "    Found existing installation: nvidia-cufft-cu12 11.2.3.61\n",
            "    Uninstalling nvidia-cufft-cu12-11.2.3.61:\n",
            "      Successfully uninstalled nvidia-cufft-cu12-11.2.3.61\n",
            "  Attempting uninstall: nvidia-cuda-runtime-cu12\n",
            "    Found existing installation: nvidia-cuda-runtime-cu12 12.5.82\n",
            "    Uninstalling nvidia-cuda-runtime-cu12-12.5.82:\n",
            "      Successfully uninstalled nvidia-cuda-runtime-cu12-12.5.82\n",
            "  Attempting uninstall: nvidia-cuda-nvrtc-cu12\n",
            "    Found existing installation: nvidia-cuda-nvrtc-cu12 12.5.82\n",
            "    Uninstalling nvidia-cuda-nvrtc-cu12-12.5.82:\n",
            "      Successfully uninstalled nvidia-cuda-nvrtc-cu12-12.5.82\n",
            "  Attempting uninstall: nvidia-cuda-cupti-cu12\n",
            "    Found existing installation: nvidia-cuda-cupti-cu12 12.5.82\n",
            "    Uninstalling nvidia-cuda-cupti-cu12-12.5.82:\n",
            "      Successfully uninstalled nvidia-cuda-cupti-cu12-12.5.82\n",
            "  Attempting uninstall: nvidia-cublas-cu12\n",
            "    Found existing installation: nvidia-cublas-cu12 12.5.3.2\n",
            "    Uninstalling nvidia-cublas-cu12-12.5.3.2:\n",
            "      Successfully uninstalled nvidia-cublas-cu12-12.5.3.2\n",
            "  Attempting uninstall: nvidia-cusparse-cu12\n",
            "    Found existing installation: nvidia-cusparse-cu12 12.5.1.3\n",
            "    Uninstalling nvidia-cusparse-cu12-12.5.1.3:\n",
            "      Successfully uninstalled nvidia-cusparse-cu12-12.5.1.3\n",
            "  Attempting uninstall: nvidia-cudnn-cu12\n",
            "    Found existing installation: nvidia-cudnn-cu12 9.3.0.75\n",
            "    Uninstalling nvidia-cudnn-cu12-9.3.0.75:\n",
            "      Successfully uninstalled nvidia-cudnn-cu12-9.3.0.75\n",
            "  Attempting uninstall: nvidia-cusolver-cu12\n",
            "    Found existing installation: nvidia-cusolver-cu12 11.6.3.83\n",
            "    Uninstalling nvidia-cusolver-cu12-11.6.3.83:\n",
            "      Successfully uninstalled nvidia-cusolver-cu12-11.6.3.83\n",
            "Successfully installed clip-1.0 nvidia-cublas-cu12-12.4.5.8 nvidia-cuda-cupti-cu12-12.4.127 nvidia-cuda-nvrtc-cu12-12.4.127 nvidia-cuda-runtime-cu12-12.4.127 nvidia-cudnn-cu12-9.1.0.70 nvidia-cufft-cu12-11.2.1.3 nvidia-curand-cu12-10.3.5.147 nvidia-cusolver-cu12-11.6.1.9 nvidia-cusparse-cu12-12.3.1.170 nvidia-nvjitlink-cu12-12.4.127\n",
            "Requirement already satisfied: matplotlib in /usr/local/lib/python3.11/dist-packages (3.10.0)\n",
            "Requirement already satisfied: scikit-learn in /usr/local/lib/python3.11/dist-packages (1.6.1)\n",
            "Requirement already satisfied: contourpy>=1.0.1 in /usr/local/lib/python3.11/dist-packages (from matplotlib) (1.3.2)\n",
            "Requirement already satisfied: cycler>=0.10 in /usr/local/lib/python3.11/dist-packages (from matplotlib) (0.12.1)\n",
            "Requirement already satisfied: fonttools>=4.22.0 in /usr/local/lib/python3.11/dist-packages (from matplotlib) (4.58.4)\n",
            "Requirement already satisfied: kiwisolver>=1.3.1 in /usr/local/lib/python3.11/dist-packages (from matplotlib) (1.4.8)\n",
            "Requirement already satisfied: numpy>=1.23 in /usr/local/lib/python3.11/dist-packages (from matplotlib) (2.0.2)\n",
            "Requirement already satisfied: packaging>=20.0 in /usr/local/lib/python3.11/dist-packages (from matplotlib) (24.2)\n",
            "Requirement already satisfied: pillow>=8 in /usr/local/lib/python3.11/dist-packages (from matplotlib) (11.2.1)\n",
            "Requirement already satisfied: pyparsing>=2.3.1 in /usr/local/lib/python3.11/dist-packages (from matplotlib) (3.2.3)\n",
            "Requirement already satisfied: python-dateutil>=2.7 in /usr/local/lib/python3.11/dist-packages (from matplotlib) (2.9.0.post0)\n",
            "Requirement already satisfied: scipy>=1.6.0 in /usr/local/lib/python3.11/dist-packages (from scikit-learn) (1.15.3)\n",
            "Requirement already satisfied: joblib>=1.2.0 in /usr/local/lib/python3.11/dist-packages (from scikit-learn) (1.5.1)\n",
            "Requirement already satisfied: threadpoolctl>=3.1.0 in /usr/local/lib/python3.11/dist-packages (from scikit-learn) (3.6.0)\n",
            "Requirement already satisfied: six>=1.5 in /usr/local/lib/python3.11/dist-packages (from python-dateutil>=2.7->matplotlib) (1.17.0)\n"
          ]
        }
      ],
      "source": [
        "!pip install ftfy regex tqdm\n",
        "!pip install git+https://github.com/openai/CLIP.git\n",
        "!pip install matplotlib scikit-learn\n"
      ]
    },
    {
      "cell_type": "markdown",
      "metadata": {
        "id": "E9c5wUZvuTWP"
      },
      "source": [
        "# ✅ Summary:\n",
        "## Step\tType\tWhat It Evaluates\n",
        "### 1️⃣ Zero-shot\tBaseline\tPre-trained generalization\n",
        "### 2️⃣Prompt Engineering\tPrompt-based\tBoosts zero-shot classification\n",
        "### 3️⃣ Few-shot (5)\tSupervised\tLow-data performance\n",
        "### 4️⃣ [ Optiontal if i wnat better accuracy in Few shot] Few-shot (10)\tSupervised\tEffect of more data\n",
        "### 5️⃣ Contrastive Finetuning\tDomain Adaptation\tImproves CLIP via training\n"
      ]
    },
    {
      "cell_type": "markdown",
      "metadata": {
        "id": "FSGCmVoFDstZ"
      },
      "source": [
        "# 📁 2. Upload and Unzip Dataset\n",
        "\n"
      ]
    },
    {
      "cell_type": "code",
      "execution_count": 2,
      "metadata": {
        "colab": {
          "base_uri": "https://localhost:8080/",
          "height": 90
        },
        "id": "9dfn8YHYDmgi",
        "outputId": "4f1850f5-fc15-47b6-fc4c-7a7391f93a8f"
      },
      "outputs": [
        {
          "output_type": "display_data",
          "data": {
            "text/plain": [
              "<IPython.core.display.HTML object>"
            ],
            "text/html": [
              "\n",
              "     <input type=\"file\" id=\"files-25b49d28-4ab3-475e-92c8-cb4910e2f2d8\" name=\"files[]\" multiple disabled\n",
              "        style=\"border:none\" />\n",
              "     <output id=\"result-25b49d28-4ab3-475e-92c8-cb4910e2f2d8\">\n",
              "      Upload widget is only available when the cell has been executed in the\n",
              "      current browser session. Please rerun this cell to enable.\n",
              "      </output>\n",
              "      <script>// Copyright 2017 Google LLC\n",
              "//\n",
              "// Licensed under the Apache License, Version 2.0 (the \"License\");\n",
              "// you may not use this file except in compliance with the License.\n",
              "// You may obtain a copy of the License at\n",
              "//\n",
              "//      http://www.apache.org/licenses/LICENSE-2.0\n",
              "//\n",
              "// Unless required by applicable law or agreed to in writing, software\n",
              "// distributed under the License is distributed on an \"AS IS\" BASIS,\n",
              "// WITHOUT WARRANTIES OR CONDITIONS OF ANY KIND, either express or implied.\n",
              "// See the License for the specific language governing permissions and\n",
              "// limitations under the License.\n",
              "\n",
              "/**\n",
              " * @fileoverview Helpers for google.colab Python module.\n",
              " */\n",
              "(function(scope) {\n",
              "function span(text, styleAttributes = {}) {\n",
              "  const element = document.createElement('span');\n",
              "  element.textContent = text;\n",
              "  for (const key of Object.keys(styleAttributes)) {\n",
              "    element.style[key] = styleAttributes[key];\n",
              "  }\n",
              "  return element;\n",
              "}\n",
              "\n",
              "// Max number of bytes which will be uploaded at a time.\n",
              "const MAX_PAYLOAD_SIZE = 100 * 1024;\n",
              "\n",
              "function _uploadFiles(inputId, outputId) {\n",
              "  const steps = uploadFilesStep(inputId, outputId);\n",
              "  const outputElement = document.getElementById(outputId);\n",
              "  // Cache steps on the outputElement to make it available for the next call\n",
              "  // to uploadFilesContinue from Python.\n",
              "  outputElement.steps = steps;\n",
              "\n",
              "  return _uploadFilesContinue(outputId);\n",
              "}\n",
              "\n",
              "// This is roughly an async generator (not supported in the browser yet),\n",
              "// where there are multiple asynchronous steps and the Python side is going\n",
              "// to poll for completion of each step.\n",
              "// This uses a Promise to block the python side on completion of each step,\n",
              "// then passes the result of the previous step as the input to the next step.\n",
              "function _uploadFilesContinue(outputId) {\n",
              "  const outputElement = document.getElementById(outputId);\n",
              "  const steps = outputElement.steps;\n",
              "\n",
              "  const next = steps.next(outputElement.lastPromiseValue);\n",
              "  return Promise.resolve(next.value.promise).then((value) => {\n",
              "    // Cache the last promise value to make it available to the next\n",
              "    // step of the generator.\n",
              "    outputElement.lastPromiseValue = value;\n",
              "    return next.value.response;\n",
              "  });\n",
              "}\n",
              "\n",
              "/**\n",
              " * Generator function which is called between each async step of the upload\n",
              " * process.\n",
              " * @param {string} inputId Element ID of the input file picker element.\n",
              " * @param {string} outputId Element ID of the output display.\n",
              " * @return {!Iterable<!Object>} Iterable of next steps.\n",
              " */\n",
              "function* uploadFilesStep(inputId, outputId) {\n",
              "  const inputElement = document.getElementById(inputId);\n",
              "  inputElement.disabled = false;\n",
              "\n",
              "  const outputElement = document.getElementById(outputId);\n",
              "  outputElement.innerHTML = '';\n",
              "\n",
              "  const pickedPromise = new Promise((resolve) => {\n",
              "    inputElement.addEventListener('change', (e) => {\n",
              "      resolve(e.target.files);\n",
              "    });\n",
              "  });\n",
              "\n",
              "  const cancel = document.createElement('button');\n",
              "  inputElement.parentElement.appendChild(cancel);\n",
              "  cancel.textContent = 'Cancel upload';\n",
              "  const cancelPromise = new Promise((resolve) => {\n",
              "    cancel.onclick = () => {\n",
              "      resolve(null);\n",
              "    };\n",
              "  });\n",
              "\n",
              "  // Wait for the user to pick the files.\n",
              "  const files = yield {\n",
              "    promise: Promise.race([pickedPromise, cancelPromise]),\n",
              "    response: {\n",
              "      action: 'starting',\n",
              "    }\n",
              "  };\n",
              "\n",
              "  cancel.remove();\n",
              "\n",
              "  // Disable the input element since further picks are not allowed.\n",
              "  inputElement.disabled = true;\n",
              "\n",
              "  if (!files) {\n",
              "    return {\n",
              "      response: {\n",
              "        action: 'complete',\n",
              "      }\n",
              "    };\n",
              "  }\n",
              "\n",
              "  for (const file of files) {\n",
              "    const li = document.createElement('li');\n",
              "    li.append(span(file.name, {fontWeight: 'bold'}));\n",
              "    li.append(span(\n",
              "        `(${file.type || 'n/a'}) - ${file.size} bytes, ` +\n",
              "        `last modified: ${\n",
              "            file.lastModifiedDate ? file.lastModifiedDate.toLocaleDateString() :\n",
              "                                    'n/a'} - `));\n",
              "    const percent = span('0% done');\n",
              "    li.appendChild(percent);\n",
              "\n",
              "    outputElement.appendChild(li);\n",
              "\n",
              "    const fileDataPromise = new Promise((resolve) => {\n",
              "      const reader = new FileReader();\n",
              "      reader.onload = (e) => {\n",
              "        resolve(e.target.result);\n",
              "      };\n",
              "      reader.readAsArrayBuffer(file);\n",
              "    });\n",
              "    // Wait for the data to be ready.\n",
              "    let fileData = yield {\n",
              "      promise: fileDataPromise,\n",
              "      response: {\n",
              "        action: 'continue',\n",
              "      }\n",
              "    };\n",
              "\n",
              "    // Use a chunked sending to avoid message size limits. See b/62115660.\n",
              "    let position = 0;\n",
              "    do {\n",
              "      const length = Math.min(fileData.byteLength - position, MAX_PAYLOAD_SIZE);\n",
              "      const chunk = new Uint8Array(fileData, position, length);\n",
              "      position += length;\n",
              "\n",
              "      const base64 = btoa(String.fromCharCode.apply(null, chunk));\n",
              "      yield {\n",
              "        response: {\n",
              "          action: 'append',\n",
              "          file: file.name,\n",
              "          data: base64,\n",
              "        },\n",
              "      };\n",
              "\n",
              "      let percentDone = fileData.byteLength === 0 ?\n",
              "          100 :\n",
              "          Math.round((position / fileData.byteLength) * 100);\n",
              "      percent.textContent = `${percentDone}% done`;\n",
              "\n",
              "    } while (position < fileData.byteLength);\n",
              "  }\n",
              "\n",
              "  // All done.\n",
              "  yield {\n",
              "    response: {\n",
              "      action: 'complete',\n",
              "    }\n",
              "  };\n",
              "}\n",
              "\n",
              "scope.google = scope.google || {};\n",
              "scope.google.colab = scope.google.colab || {};\n",
              "scope.google.colab._files = {\n",
              "  _uploadFiles,\n",
              "  _uploadFilesContinue,\n",
              "};\n",
              "})(self);\n",
              "</script> "
            ]
          },
          "metadata": {}
        },
        {
          "output_type": "stream",
          "name": "stdout",
          "text": [
            "Saving TB_Chest_Radiograph Small Dataset CLIP.zip to TB_Chest_Radiograph Small Dataset CLIP.zip\n",
            "TB_Dataset -> 0 files\n"
          ]
        }
      ],
      "source": [
        "from google.colab import files\n",
        "uploaded = files.upload()  # Upload your ZIP file\n",
        "\n",
        "import zipfile\n",
        "import os\n",
        "\n",
        "zip_path = list(uploaded.keys())[0]\n",
        "extract_dir = \"TB_Dataset\"\n",
        "\n",
        "with zipfile.ZipFile(zip_path, 'r') as zip_ref:\n",
        "    zip_ref.extractall(extract_dir)\n",
        "\n",
        "# Optional: verify structure\n",
        "for root, dirs, files in os.walk(extract_dir):\n",
        "    print(root, \"->\", len(files), \"files\")\n",
        "    break\n"
      ]
    },
    {
      "cell_type": "markdown",
      "source": [
        "# 🔍 Step 1: Check my Folder Structure\n"
      ],
      "metadata": {
        "id": "9kOoRvr1vCxM"
      }
    },
    {
      "cell_type": "code",
      "source": [
        "import os\n",
        "\n",
        "for root, dirs, files in os.walk(\"TB_Dataset\"):\n",
        "    print(f\"{root} -> {len(files)} files\")\n"
      ],
      "metadata": {
        "colab": {
          "base_uri": "https://localhost:8080/"
        },
        "id": "W0uPNAj_vOXq",
        "outputId": "61d7ba60-253f-47d1-ff47-c5e66608e8f0"
      },
      "execution_count": 3,
      "outputs": [
        {
          "output_type": "stream",
          "name": "stdout",
          "text": [
            "TB_Dataset -> 0 files\n",
            "TB_Dataset/TB_Chest_Radiograph Small Dataset CLIP -> 0 files\n",
            "TB_Dataset/TB_Chest_Radiograph Small Dataset CLIP/Training -> 0 files\n",
            "TB_Dataset/TB_Chest_Radiograph Small Dataset CLIP/Training/Normal -> 372 files\n",
            "TB_Dataset/TB_Chest_Radiograph Small Dataset CLIP/Training/Tuberculosis -> 288 files\n",
            "TB_Dataset/TB_Chest_Radiograph Small Dataset CLIP/Testing -> 0 files\n",
            "TB_Dataset/TB_Chest_Radiograph Small Dataset CLIP/Testing/Normal -> 80 files\n",
            "TB_Dataset/TB_Chest_Radiograph Small Dataset CLIP/Testing/Tuberculosis -> 72 files\n"
          ]
        }
      ]
    },
    {
      "cell_type": "markdown",
      "metadata": {
        "id": "6VnXJn0HD67K"
      },
      "source": [
        "# 🗂 4. Load Images and Labels ==>Preprocess dataset (images + labels)\n"
      ]
    },
    {
      "cell_type": "code",
      "execution_count": 4,
      "metadata": {
        "colab": {
          "base_uri": "https://localhost:8080/"
        },
        "id": "zkhjxeg8DmlP",
        "outputId": "105bbb9e-153f-4caf-ebe2-6c16c896d4c6"
      },
      "outputs": [
        {
          "output_type": "stream",
          "name": "stdout",
          "text": [
            "Classes: ['Normal', 'Tuberculosis']\n",
            "Total samples: 812\n"
          ]
        }
      ],
      "source": [
        "image_paths = []\n",
        "image_labels = []\n",
        "\n",
        "# Correct root path to point to actual folders\n",
        "data_root = os.path.join(\"TB_Dataset\", \"TB_Chest_Radiograph Small Dataset CLIP\")\n",
        "\n",
        "# Go through both Training and Testing folders\n",
        "for split in [\"Training\", \"Testing\"]:\n",
        "    split_path = os.path.join(data_root, split)\n",
        "    for label in os.listdir(split_path):\n",
        "        label_path = os.path.join(split_path, label)\n",
        "        if os.path.isdir(label_path):\n",
        "            for fname in os.listdir(label_path):\n",
        "                if fname.lower().endswith(('.jpg', '.jpeg', '.png')):\n",
        "                    image_paths.append(os.path.join(label_path, fname))\n",
        "                    image_labels.append(label)\n",
        "\n",
        "classes = sorted(set(image_labels))\n",
        "print(\"Classes:\", classes)\n",
        "print(\"Total samples:\", len(image_paths))\n"
      ]
    },
    {
      "cell_type": "markdown",
      "source": [
        "# 🧠 Clip Model ==> That is why we Did not find the best Accuracy 🙃\n",
        "\n",
        "## 🔹 1. Official CLIP Models by OpenAI are -- > ViT-B/32 ,ViT-B/16, ViT-L/14, ViT-L/14@336px , RN50 , RN101 Are the Official CLIP Models by OpenAI?\n",
        "\n",
        "##👎 These are general-purpose CLIP models trained by OpenAI on 400M image–text pairs from the internet (non-medical). They're great for general vision tasks, but not specialized for medical images.\n",
        "\n",
        "## => 🗣️ Used for: General images — dogs, buildings, cars, memes, etc.\n",
        "## => 🗣️ Not trained on X-rays, CTs, MRIs → worse performance on medical data.\n",
        "\n",
        "## 👀 These are trained on general web image-text pairs:\n",
        "\n",
        "## Model Name\tDescription\n",
        "--------------------------------\n",
        "## 🖖ViT-B/32\t=> Vision Transformer (Base) with 32×32 patches — Fastest, common default.\n",
        "## 🖖ViT-B/16\t=> Higher resolution (16×16 patches) — Better performance.\n",
        "## 🖖ViT-L/14\t=> Larger model, better accuracy — Slower but more powerful.\n",
        "## 🖖ViT-L/14@336px\t=> Larger input size (336px) — Highest accuracy.\n",
        "## 🖖RN50, RN101\t=> ResNet backbones — Older, less popular00 than ViT.\n"
      ],
      "metadata": {
        "id": "ibE3nwPxwIkL"
      }
    },
    {
      "cell_type": "markdown",
      "metadata": {
        "id": "qYfELsD2EGjq"
      },
      "source": [
        "# 1️⃣ Zero-shot\tBaseline\tPre-trained generalization  ==> with No Training\n",
        " ## 📌 For TB Chest X-rays or similar: ⚽ Zero-shot classification , 🏀 Few-shot with own classifier [  Try different classifier ==> SVM, KNN, MLP instrad of LogisticRegression() ] , ⚾ General biomedical tasks [ MedCLIP,  BioViL or GLoRIA ]\n",
        "# 🧪 5. Zero-shot Classification ==> ViT-B/32\t==> 2 prompts/class\t46.06%\n",
        "\n"
      ]
    },
    {
      "cell_type": "markdown",
      "source": [
        "#🧠 3. Load CLIP (ViT-B/32)\n"
      ],
      "metadata": {
        "id": "a4X-6HK8v9ia"
      }
    },
    {
      "cell_type": "code",
      "source": [
        "import torch\n",
        "import clip\n",
        "from PIL import Image\n",
        "\n",
        "device = \"cuda\" if torch.cuda.is_available() else \"cpu\"\n",
        "model, preprocess = clip.load(\"ViT-B/32\", device=device)\n"
      ],
      "metadata": {
        "id": "Zt0uGEnGwAGK",
        "colab": {
          "base_uri": "https://localhost:8080/"
        },
        "outputId": "0cd75a36-31e2-4d13-bc65-fc203f18a9c5"
      },
      "execution_count": 5,
      "outputs": [
        {
          "output_type": "stream",
          "name": "stderr",
          "text": [
            "100%|████████████████████████████████████████| 338M/338M [00:03<00:00, 101MiB/s]\n"
          ]
        }
      ]
    },
    {
      "cell_type": "code",
      "execution_count": 6,
      "metadata": {
        "colab": {
          "base_uri": "https://localhost:8080/"
        },
        "id": "AAFV0MOuDmpn",
        "outputId": "819224d2-0ad1-4890-a3a6-de63f2974528"
      },
      "outputs": [
        {
          "output_type": "stream",
          "name": "stdout",
          "text": [
            "Zero-shot Accuracy: 374/812 = 46.06%\n"
          ]
        }
      ],
      "source": [
        "import numpy as np\n",
        "\n",
        "# Define prompt templates\n",
        "def build_prompts(label):\n",
        "    return [\n",
        "        f\"a chest X-ray showing {label.lower()}\",\n",
        "        f\"an X-ray image of {label.lower()} lungs\"\n",
        "    ]\n",
        "\n",
        "# Build tokenized prompts\n",
        "text_descriptions = sum([build_prompts(cls) for cls in classes], [])\n",
        "text_tokens = clip.tokenize(text_descriptions).to(device)\n",
        "\n",
        "# Encode text once\n",
        "with torch.no_grad():\n",
        "    text_features = model.encode_text(text_tokens)\n",
        "    text_features /= text_features.norm(dim=-1, keepdim=True)\n",
        "\n",
        "# Inference loop\n",
        "correct = 0\n",
        "\n",
        "for path, true_label in zip(image_paths, image_labels):\n",
        "    image = preprocess(Image.open(path)).unsqueeze(0).to(device)\n",
        "    with torch.no_grad():\n",
        "        image_feature = model.encode_image(image)\n",
        "        image_feature /= image_feature.norm(dim=-1, keepdim=True)\n",
        "        similarity = (100.0 * image_feature @ text_features.T).softmax(dim=-1)\n",
        "\n",
        "    probs = similarity[0].cpu().numpy()\n",
        "    # Pick highest-prob class by max mean of its prompts\n",
        "    scores_per_class = np.array([\n",
        "        np.mean([probs[i] for i in range(j*2, j*2+2)]) for j in range(len(classes))\n",
        "    ])\n",
        "    predicted_label = classes[np.argmax(scores_per_class)]\n",
        "\n",
        "    if predicted_label == true_label:\n",
        "        correct += 1\n",
        "\n",
        "print(f\"Zero-shot Accuracy: {correct}/{len(image_paths)} = {correct / len(image_paths):.2%}\")\n"
      ]
    },
    {
      "cell_type": "markdown",
      "metadata": {
        "id": "a2cmOqXkEKJa"
      },
      "source": [
        "# 📊 6. Visualize with t-SNE (optional, recommended)"
      ]
    },
    {
      "cell_type": "code",
      "execution_count": 7,
      "metadata": {
        "colab": {
          "base_uri": "https://localhost:8080/",
          "height": 545
        },
        "id": "efasKR04DmsB",
        "outputId": "d8487c30-d1ec-466e-cfd3-19654c039a41"
      },
      "outputs": [
        {
          "output_type": "display_data",
          "data": {
            "text/plain": [
              "<Figure size 800x600 with 1 Axes>"
            ],
            "image/png": "[encoded data removed]"
          },
          "metadata": {}
        }
      ],
      "source": [
        "from sklearn.manifold import TSNE\n",
        "import matplotlib.pyplot as plt\n",
        "\n",
        "features = []\n",
        "labels = []\n",
        "\n",
        "for path, label in zip(image_paths, image_labels):\n",
        "    image = preprocess(Image.open(path)).unsqueeze(0).to(device)\n",
        "    with torch.no_grad():\n",
        "        feat = model.encode_image(image)\n",
        "        features.append(feat.squeeze().cpu().numpy())\n",
        "        labels.append(label)\n",
        "\n",
        "features = np.array(features)\n",
        "\n",
        "# Run t-SNE\n",
        "tsne = TSNE(n_components=2, random_state=42)\n",
        "features_2d = tsne.fit_transform(features)\n",
        "\n",
        "# Plot\n",
        "plt.figure(figsize=(8, 6))\n",
        "for lbl in set(labels):\n",
        "    idxs = [i for i, l in enumerate(labels) if l == lbl]\n",
        "    plt.scatter(features_2d[idxs, 0], features_2d[idxs, 1], label=lbl)\n",
        "plt.legend()\n",
        "plt.title(\"t-SNE of CLIP Image Embeddings\")\n",
        "plt.show()\n"
      ]
    },
    {
      "cell_type": "markdown",
      "metadata": {
        "id": "5xxKhkA5zF5I"
      },
      "source": [
        "# 2️⃣Prompt Engineering\tPrompt-based\tBoosts zero-shot classification\n"
      ]
    },
    {
      "cell_type": "markdown",
      "metadata": {
        "id": "cLGtLderxLVY"
      },
      "source": [
        "# 🔹Prompt Engineering + Ensemble Zero-shot Prompts\n",
        "##🖖=> This will give 6 prompts per class, instead of 2. ===> ViT-B/32--> 6 prompts/class\t--> Accuracy = 45.32%"
      ]
    },
    {
      "cell_type": "code",
      "execution_count": 8,
      "metadata": {
        "colab": {
          "base_uri": "https://localhost:8080/"
        },
        "id": "BSoR3rwAxJXB",
        "outputId": "060d9f8f-66ee-4459-be2e-8bbb6c24e88c"
      },
      "outputs": [
        {
          "output_type": "stream",
          "name": "stdout",
          "text": [
            "Zero-shot Accuracy with improved prompts: 368/812 = 45.32%\n"
          ]
        }
      ],
      "source": [
        "import numpy as np\n",
        "\n",
        "def build_prompts(label):\n",
        "    return [\n",
        "        f\"a chest X-ray showing {label.lower()}\",\n",
        "        f\"an X-ray image of {label.lower()} lungs\",\n",
        "        f\"a medical radiograph of lungs with {label.lower()}\",\n",
        "        f\"an image showing {label.lower()} signs in lungs\",\n",
        "        f\"clinical X-ray demonstrating {label.lower()}\",\n",
        "        f\"a diagnostic image of {label.lower()} disease\"\n",
        "    ]\n",
        "\n",
        "\n",
        "# Rebuild text descriptions with the improved prompts\n",
        "text_descriptions = sum([build_prompts(cls) for cls in classes], [])\n",
        "text_tokens = clip.tokenize(text_descriptions).to(device)\n",
        "\n",
        "# Encode text\n",
        "with torch.no_grad():\n",
        "    text_features = model.encode_text(text_tokens)\n",
        "    text_features /= text_features.norm(dim=-1, keepdim=True)\n",
        "\n",
        "# Inference loop with new prompt logic\n",
        "correct = 0\n",
        "total = len(image_paths)\n",
        "\n",
        "for path, true_label in zip(image_paths, image_labels):\n",
        "    image = preprocess(Image.open(path)).unsqueeze(0).to(device)\n",
        "    with torch.no_grad():\n",
        "        image_feature = model.encode_image(image)\n",
        "        image_feature /= image_feature.norm(dim=-1, keepdim=True)\n",
        "        similarity = (100.0 * image_feature @ text_features.T).softmax(dim=-1)\n",
        "\n",
        "    probs = similarity[0].cpu().numpy()\n",
        "\n",
        "    # 6 prompts per class now\n",
        "    prompts_per_class = 6\n",
        "    scores_per_class = np.array([\n",
        "        np.mean([probs[i] for i in range(j * prompts_per_class, (j + 1) * prompts_per_class)])\n",
        "        for j in range(len(classes))\n",
        "    ])\n",
        "    predicted_label = classes[np.argmax(scores_per_class)]\n",
        "\n",
        "    if predicted_label == true_label:\n",
        "        correct += 1\n",
        "\n",
        "accuracy = correct / total\n",
        "print(f\"Zero-shot Accuracy with improved prompts: {correct}/{total} = {accuracy:.2%}\")\n"
      ]
    },
    {
      "cell_type": "markdown",
      "metadata": {
        "id": "leRY9sCYxdi_"
      },
      "source": [
        "# 🖖New Model ==> RN50\t=> 6 prompts/class\t= 44.33%"
      ]
    },
    {
      "cell_type": "markdown",
      "metadata": {
        "id": "uoYlhUejxuLv"
      },
      "source": [
        "## 🧠 3. Load CLIP (RN50)\n"
      ]
    },
    {
      "cell_type": "code",
      "execution_count": 9,
      "metadata": {
        "id": "KAKktiJ0xJZR",
        "colab": {
          "base_uri": "https://localhost:8080/"
        },
        "outputId": "0fea593a-74d1-4638-dec0-b1616292d8d3"
      },
      "outputs": [
        {
          "output_type": "stream",
          "name": "stderr",
          "text": [
            "100%|███████████████████████████████████████| 244M/244M [00:13<00:00, 19.5MiB/s]\n"
          ]
        }
      ],
      "source": [
        "import torch\n",
        "import clip\n",
        "from PIL import Image\n",
        "\n",
        "model_name = \"RN50\"  # or try \"ViT-B/16\" or \"ViT-L/14\"\n",
        "model, preprocess = clip.load(model_name, device=device)\n"
      ]
    },
    {
      "cell_type": "markdown",
      "source": [
        "# 😇Load Images and Labels ==>Preprocess dataset (images + labels)"
      ],
      "metadata": {
        "id": "HGDcxqPCbuIw"
      }
    },
    {
      "cell_type": "code",
      "execution_count": 10,
      "metadata": {
        "colab": {
          "base_uri": "https://localhost:8080/"
        },
        "id": "Ss_C0YDoxJb4",
        "outputId": "e4e0f7e9-a7f4-4969-dd6d-328c0447f7d8"
      },
      "outputs": [
        {
          "output_type": "stream",
          "name": "stdout",
          "text": [
            "Classes: ['Normal', 'Tuberculosis']\n",
            "Total samples: 812\n"
          ]
        }
      ],
      "source": [
        "image_paths = []\n",
        "image_labels = []\n",
        "\n",
        "# Correct root path to point to actual folders\n",
        "data_root = os.path.join(\"TB_Dataset\", \"TB_Chest_Radiograph Small Dataset CLIP\")\n",
        "\n",
        "# Go through both Training and Testing folders\n",
        "for split in [\"Training\", \"Testing\"]:\n",
        "    split_path = os.path.join(data_root, split)\n",
        "    for label in os.listdir(split_path):\n",
        "        label_path = os.path.join(split_path, label)\n",
        "        if os.path.isdir(label_path):\n",
        "            for fname in os.listdir(label_path):\n",
        "                if fname.lower().endswith(('.jpg', '.jpeg', '.png')):\n",
        "                    image_paths.append(os.path.join(label_path, fname))\n",
        "                    image_labels.append(label)\n",
        "\n",
        "classes = sorted(set(image_labels))\n",
        "print(\"Classes:\", classes)\n",
        "print(\"Total samples:\", len(image_paths))\n"
      ]
    },
    {
      "cell_type": "code",
      "execution_count": 11,
      "metadata": {
        "colab": {
          "base_uri": "https://localhost:8080/"
        },
        "id": "ZmGoeS8hxJeQ",
        "outputId": "c9734b18-3656-4e67-e6e8-3dd27c0bb978"
      },
      "outputs": [
        {
          "output_type": "stream",
          "name": "stdout",
          "text": [
            "Zero-shot Accuracy with improved prompts: 360/812 = 44.33%\n"
          ]
        }
      ],
      "source": [
        "import numpy as np\n",
        "\n",
        "def build_prompts(label):\n",
        "    return [\n",
        "        f\"a chest X-ray showing {label.lower()}\",\n",
        "        f\"an X-ray image of {label.lower()} lungs\",\n",
        "        f\"a medical radiograph of lungs with {label.lower()}\",\n",
        "        f\"an image showing {label.lower()} signs in lungs\",\n",
        "        f\"clinical X-ray demonstrating {label.lower()}\",\n",
        "        f\"a diagnostic image of {label.lower()} disease\"\n",
        "    ]\n",
        "\n",
        "\n",
        "# Rebuild text descriptions with the improved prompts\n",
        "text_descriptions = sum([build_prompts(cls) for cls in classes], [])\n",
        "text_tokens = clip.tokenize(text_descriptions).to(device)\n",
        "\n",
        "# Encode text\n",
        "with torch.no_grad():\n",
        "    text_features = model.encode_text(text_tokens)\n",
        "    text_features /= text_features.norm(dim=-1, keepdim=True)\n",
        "\n",
        "# Inference loop with new prompt logic\n",
        "correct = 0\n",
        "total = len(image_paths)\n",
        "\n",
        "for path, true_label in zip(image_paths, image_labels):\n",
        "    image = preprocess(Image.open(path)).unsqueeze(0).to(device)\n",
        "    with torch.no_grad():\n",
        "        image_feature = model.encode_image(image)\n",
        "        image_feature /= image_feature.norm(dim=-1, keepdim=True)\n",
        "        similarity = (100.0 * image_feature @ text_features.T).softmax(dim=-1)\n",
        "\n",
        "    probs = similarity[0].cpu().numpy()\n",
        "\n",
        "    # 6 prompts per class now\n",
        "    prompts_per_class = 6\n",
        "    scores_per_class = np.array([\n",
        "        np.mean([probs[i] for i in range(j * prompts_per_class, (j + 1) * prompts_per_class)])\n",
        "        for j in range(len(classes))\n",
        "    ])\n",
        "    predicted_label = classes[np.argmax(scores_per_class)]\n",
        "\n",
        "    if predicted_label == true_label:\n",
        "        correct += 1\n",
        "\n",
        "accuracy = correct / total\n",
        "print(f\"Zero-shot Accuracy with improved prompts: {correct}/{total} = {accuracy:.2%}\")\n"
      ]
    },
    {
      "cell_type": "markdown",
      "metadata": {
        "id": "S4t-ZL_AyII5"
      },
      "source": [
        "# 🖖New Model ==> Vit-B/16 ==> 6 prompts/class = 54.93%"
      ]
    },
    {
      "cell_type": "code",
      "execution_count": 12,
      "metadata": {
        "id": "Y_uJyNlIxJhR",
        "colab": {
          "base_uri": "https://localhost:8080/"
        },
        "outputId": "b472fe8e-e359-4900-c6ed-428e5ab30422"
      },
      "outputs": [
        {
          "output_type": "stream",
          "name": "stderr",
          "text": [
            "100%|███████████████████████████████████████| 335M/335M [00:09<00:00, 38.7MiB/s]\n"
          ]
        }
      ],
      "source": [
        "import torch\n",
        "import clip\n",
        "from PIL import Image\n",
        "\n",
        "model_name = \"ViT-B/16\"\n",
        "model, preprocess = clip.load(model_name, device=device)\n"
      ]
    },
    {
      "cell_type": "code",
      "execution_count": 13,
      "metadata": {
        "colab": {
          "base_uri": "https://localhost:8080/"
        },
        "id": "coR2l5wLxJjp",
        "outputId": "62af325c-d84b-4773-9093-cafa7bdce612"
      },
      "outputs": [
        {
          "output_type": "stream",
          "name": "stdout",
          "text": [
            "Zero-shot Accuracy with improved prompts: 446/812 = 54.93%\n"
          ]
        }
      ],
      "source": [
        "import numpy as np\n",
        "\n",
        "def build_prompts(label):\n",
        "    return [\n",
        "        f\"a chest X-ray showing {label.lower()}\",\n",
        "        f\"an X-ray image of {label.lower()} lungs\",\n",
        "        f\"a medical radiograph of lungs with {label.lower()}\",\n",
        "        f\"an image showing {label.lower()} signs in lungs\",\n",
        "        f\"clinical X-ray demonstrating {label.lower()}\",\n",
        "        f\"a diagnostic image of {label.lower()} disease\"\n",
        "    ]\n",
        "\n",
        "\n",
        "# Rebuild text descriptions with the improved prompts\n",
        "text_descriptions = sum([build_prompts(cls) for cls in classes], [])\n",
        "text_tokens = clip.tokenize(text_descriptions).to(device)\n",
        "\n",
        "# Encode text\n",
        "with torch.no_grad():\n",
        "    text_features = model.encode_text(text_tokens)\n",
        "    text_features /= text_features.norm(dim=-1, keepdim=True)\n",
        "\n",
        "# Inference loop with new prompt logic\n",
        "correct = 0\n",
        "total = len(image_paths)\n",
        "\n",
        "for path, true_label in zip(image_paths, image_labels):\n",
        "    image = preprocess(Image.open(path)).unsqueeze(0).to(device)\n",
        "    with torch.no_grad():\n",
        "        image_feature = model.encode_image(image)\n",
        "        image_feature /= image_feature.norm(dim=-1, keepdim=True)\n",
        "        similarity = (100.0 * image_feature @ text_features.T).softmax(dim=-1)\n",
        "\n",
        "    probs = similarity[0].cpu().numpy()\n",
        "\n",
        "    # 6 prompts per class now\n",
        "    prompts_per_class = 6\n",
        "    scores_per_class = np.array([\n",
        "        np.mean([probs[i] for i in range(j * prompts_per_class, (j + 1) * prompts_per_class)])\n",
        "        for j in range(len(classes))\n",
        "    ])\n",
        "    predicted_label = classes[np.argmax(scores_per_class)]\n",
        "\n",
        "    if predicted_label == true_label:\n",
        "        correct += 1\n",
        "\n",
        "accuracy = correct / total\n",
        "print(f\"Zero-shot Accuracy with improved prompts: {correct}/{total} = {accuracy:.2%}\")\n"
      ]
    },
    {
      "cell_type": "markdown",
      "source": [
        "# 🖖New Model Vit-L/14 ==> 6 Prompts = 66.38%"
      ],
      "metadata": {
        "id": "5wLrFbdVxt_8"
      }
    },
    {
      "cell_type": "code",
      "source": [
        "import torch\n",
        "import clip\n",
        "from PIL import Image\n",
        "\n",
        "model_name = \"ViT-L/14\"\n",
        "model, preprocess = clip.load(model_name, device=device)\n"
      ],
      "metadata": {
        "id": "CyxNeM6Wx6on",
        "colab": {
          "base_uri": "https://localhost:8080/"
        },
        "outputId": "ee53ddf8-c50e-4acc-9db9-9698030045c4"
      },
      "execution_count": 14,
      "outputs": [
        {
          "output_type": "stream",
          "name": "stderr",
          "text": [
            "100%|███████████████████████████████████████| 890M/890M [00:15<00:00, 60.0MiB/s]\n"
          ]
        }
      ]
    },
    {
      "cell_type": "code",
      "source": [
        "import numpy as np\n",
        "\n",
        "def build_prompts(label):\n",
        "    return [\n",
        "        f\"a chest X-ray showing {label.lower()}\",\n",
        "        f\"an X-ray image of {label.lower()} lungs\",\n",
        "        f\"a medical radiograph of lungs with {label.lower()}\",\n",
        "        f\"an image showing {label.lower()} signs in lungs\",\n",
        "        f\"clinical X-ray demonstrating {label.lower()}\",\n",
        "        f\"a diagnostic image of {label.lower()} disease\"\n",
        "    ]\n",
        "\n",
        "\n",
        "# Rebuild text descriptions with the improved prompts\n",
        "text_descriptions = sum([build_prompts(cls) for cls in classes], [])\n",
        "text_tokens = clip.tokenize(text_descriptions).to(device)\n",
        "\n",
        "# Encode text\n",
        "with torch.no_grad():\n",
        "    text_features = model.encode_text(text_tokens)\n",
        "    text_features /= text_features.norm(dim=-1, keepdim=True)\n",
        "\n",
        "# Inference loop with new prompt logic\n",
        "correct = 0\n",
        "total = len(image_paths)\n",
        "\n",
        "for path, true_label in zip(image_paths, image_labels):\n",
        "    image = preprocess(Image.open(path)).unsqueeze(0).to(device)\n",
        "    with torch.no_grad():\n",
        "        image_feature = model.encode_image(image)\n",
        "        image_feature /= image_feature.norm(dim=-1, keepdim=True)\n",
        "        similarity = (100.0 * image_feature @ text_features.T).softmax(dim=-1)\n",
        "\n",
        "    probs = similarity[0].cpu().numpy()\n",
        "\n",
        "    # 6 prompts per class now\n",
        "    prompts_per_class = 6\n",
        "    scores_per_class = np.array([\n",
        "        np.mean([probs[i] for i in range(j * prompts_per_class, (j + 1) * prompts_per_class)])\n",
        "        for j in range(len(classes))\n",
        "    ])\n",
        "    predicted_label = classes[np.argmax(scores_per_class)]\n",
        "\n",
        "    if predicted_label == true_label:\n",
        "        correct += 1\n",
        "\n",
        "accuracy = correct / total\n",
        "print(f\"Zero-shot Accuracy with improved prompts: {correct}/{total} = {accuracy:.2%}\")\n"
      ],
      "metadata": {
        "colab": {
          "base_uri": "https://localhost:8080/"
        },
        "id": "tWKsiC2Kx9iA",
        "outputId": "ac93fa21-4ab1-4c29-874e-353e15be6b1e"
      },
      "execution_count": 15,
      "outputs": [
        {
          "output_type": "stream",
          "name": "stdout",
          "text": [
            "Zero-shot Accuracy with improved prompts: 539/812 = 66.38%\n"
          ]
        }
      ]
    },
    {
      "cell_type": "markdown",
      "source": [
        "## New Model ViT-L/14@336px ==> 6 prompts = 75.12%"
      ],
      "metadata": {
        "id": "iGu4SvDJzADX"
      }
    },
    {
      "cell_type": "code",
      "source": [
        "import torch\n",
        "import clip\n",
        "from PIL import Image\n",
        "\n",
        "model_name = \"ViT-L/14@336px\"\n",
        "model, preprocess = clip.load(model_name, device=device)\n"
      ],
      "metadata": {
        "id": "4KyuHUTex9m_",
        "colab": {
          "base_uri": "https://localhost:8080/"
        },
        "outputId": "54dacf75-aa87-4658-86d0-b31b21c7b6a4"
      },
      "execution_count": 16,
      "outputs": [
        {
          "output_type": "stream",
          "name": "stderr",
          "text": [
            "100%|███████████████████████████████████████| 891M/891M [00:17<00:00, 54.0MiB/s]\n"
          ]
        }
      ]
    },
    {
      "cell_type": "code",
      "source": [
        "import numpy as np\n",
        "\n",
        "def build_prompts(label):\n",
        "    return [\n",
        "        f\"a chest X-ray showing {label.lower()}\",\n",
        "        f\"an X-ray image of {label.lower()} lungs\",\n",
        "        f\"a medical radiograph of lungs with {label.lower()}\",\n",
        "        f\"an image showing {label.lower()} signs in lungs\",\n",
        "        f\"clinical X-ray demonstrating {label.lower()}\",\n",
        "        f\"a diagnostic image of {label.lower()} disease\"\n",
        "    ]\n",
        "\n",
        "\n",
        "# Rebuild text descriptions with the improved prompts\n",
        "text_descriptions = sum([build_prompts(cls) for cls in classes], [])\n",
        "text_tokens = clip.tokenize(text_descriptions).to(device)\n",
        "\n",
        "# Encode text\n",
        "with torch.no_grad():\n",
        "    text_features = model.encode_text(text_tokens)\n",
        "    text_features /= text_features.norm(dim=-1, keepdim=True)\n",
        "\n",
        "# Inference loop with new prompt logic\n",
        "correct = 0\n",
        "total = len(image_paths)\n",
        "\n",
        "for path, true_label in zip(image_paths, image_labels):\n",
        "    image = preprocess(Image.open(path)).unsqueeze(0).to(device)\n",
        "    with torch.no_grad():\n",
        "        image_feature = model.encode_image(image)\n",
        "        image_feature /= image_feature.norm(dim=-1, keepdim=True)\n",
        "        similarity = (100.0 * image_feature @ text_features.T).softmax(dim=-1)\n",
        "\n",
        "    probs = similarity[0].cpu().numpy()\n",
        "\n",
        "    # 6 prompts per class now\n",
        "    prompts_per_class = 6\n",
        "    scores_per_class = np.array([\n",
        "        np.mean([probs[i] for i in range(j * prompts_per_class, (j + 1) * prompts_per_class)])\n",
        "        for j in range(len(classes))\n",
        "    ])\n",
        "    predicted_label = classes[np.argmax(scores_per_class)]\n",
        "\n",
        "    if predicted_label == true_label:\n",
        "        correct += 1\n",
        "\n",
        "accuracy = correct / total\n",
        "print(f\"Zero-shot Accuracy with improved prompts: {correct}/{total} = {accuracy:.2%}\")\n"
      ],
      "metadata": {
        "colab": {
          "base_uri": "https://localhost:8080/"
        },
        "id": "Yoz_pZBNx9pS",
        "outputId": "ed79cd1e-0b47-47a9-eb38-21162a63bdd5"
      },
      "execution_count": 17,
      "outputs": [
        {
          "output_type": "stream",
          "name": "stdout",
          "text": [
            "Zero-shot Accuracy with improved prompts: 610/812 = 75.12%\n"
          ]
        }
      ]
    },
    {
      "cell_type": "markdown",
      "metadata": {
        "id": "SSSHm0U5ykpw"
      },
      "source": [
        "# ✅ Summary of Results ====> Max Accuracy Got From\n",
        "## 🧢 Model\tPrompts/Class\tAccuracy\n",
        "### 📍ViT-B/32\t->Prompts/Class= 2\t=> Accuracy = 46.66%\n",
        "### 📍ViT-B/32\t->Prompts/Class= 6\t=> Accuracy = 45.32% 🔻\n",
        "### 📍RN50\t->Prompts/Class= 6\t=> Accuracy = 44.33%\n",
        "### 📍ViT-B/16\t->Prompts/Class= 6\t=> Accuracy = 54.93% 🔻\n",
        "### 📍ViT-l/14\t->Prompts/Class= 6\t=> Accuracy =  66.38%🔻\n",
        "### 📍ViT-l/14@336px\t->Prompts/Class= 6\t=> Accuracy =  75.12%🔻\n"
      ]
    },
    {
      "cell_type": "markdown",
      "metadata": {
        "id": "WIeRtWrXz2wY"
      },
      "source": [
        "#3️⃣ Few-shot (5)\tSupervised\tLow-data performance\n"
      ]
    },
    {
      "cell_type": "markdown",
      "metadata": {
        "id": "tjCpaN_4WBUD"
      },
      "source": [
        "# ✅✅✅  Next Milestone: Few-Shot Learning using CLIP Features + Classifier\n",
        "##--> Split dataset into train (few-shot) and test\n",
        "##--> Extract CLIP image embeddings\n",
        "##--> Train a classifier on few-shot training set\n",
        "##--> Evaluate on test set\n",
        "##--> (Optional) Visualize with t-SNE\n"
      ]
    },
    {
      "cell_type": "markdown",
      "metadata": {
        "id": "KV6y1HEze13l"
      },
      "source": [
        "#🎯Few-shot CLIP + LogisticRegression [ MedCLIP (feature extraction + Logistic Regression) ] == 92.14% [ for 5 shot ]"
      ]
    },
    {
      "cell_type": "markdown",
      "metadata": {
        "id": "nHrxpDmkcDNc"
      },
      "source": [
        "# ✅ 1. Create Few-Shot Train/Test Split\n",
        "### ===> ,We’ll take 5 samples per class for training, rest for testing:"
      ]
    },
    {
      "cell_type": "code",
      "execution_count": 18,
      "metadata": {
        "colab": {
          "base_uri": "https://localhost:8080/"
        },
        "id": "N07QboSwV8wE",
        "outputId": "f0ecab4b-2f79-4c84-812c-0a49b5497841"
      },
      "outputs": [
        {
          "output_type": "stream",
          "name": "stdout",
          "text": [
            "Few-shot training size: 10\n",
            "Testing size: 802\n"
          ]
        }
      ],
      "source": [
        "from collections import defaultdict\n",
        "import random\n",
        "\n",
        "random.seed(42)\n",
        "\n",
        "# Group images by label\n",
        "label_to_paths = defaultdict(list)\n",
        "for path, label in zip(image_paths, image_labels):\n",
        "    label_to_paths[label].append(path)\n",
        "\n",
        "train_paths, train_labels = [], []\n",
        "test_paths, test_labels = [], []\n",
        "\n",
        "for label, paths in label_to_paths.items():\n",
        "    random.shuffle(paths)\n",
        "    train_samples = paths[:5]  # few-shot\n",
        "    test_samples = paths[5:]\n",
        "\n",
        "    train_paths.extend(train_samples)\n",
        "    train_labels.extend([label] * len(train_samples))\n",
        "\n",
        "    test_paths.extend(test_samples)\n",
        "    test_labels.extend([label] * len(test_samples))\n",
        "\n",
        "print(\"Few-shot training size:\", len(train_paths))\n",
        "print(\"Testing size:\", len(test_paths))\n"
      ]
    },
    {
      "cell_type": "markdown",
      "metadata": {
        "id": "UcnH4sgucI54"
      },
      "source": [
        "# ✅ 2. Extract CLIP Embeddings"
      ]
    },
    {
      "cell_type": "code",
      "execution_count": 19,
      "metadata": {
        "id": "9Dl2Py2wV8y9",
        "colab": {
          "base_uri": "https://localhost:8080/"
        },
        "outputId": "f9746bbb-fe77-47a9-8d3c-04e38d079e74"
      },
      "outputs": [
        {
          "output_type": "stream",
          "name": "stdout",
          "text": [
            "Encoded classes: [np.str_('Normal'), np.str_('Tuberculosis')]\n"
          ]
        }
      ],
      "source": [
        "def extract_image_features(paths):\n",
        "    features = []\n",
        "    for path in paths:\n",
        "        image = preprocess(Image.open(path)).unsqueeze(0).to(device)\n",
        "        with torch.no_grad():\n",
        "            feature = model.encode_image(image).cpu().numpy()\n",
        "        features.append(feature.squeeze())\n",
        "    return np.array(features)\n",
        "\n",
        "X_train = extract_image_features(train_paths)\n",
        "X_test = extract_image_features(test_paths)\n",
        "\n",
        "# Convert labels to integers\n",
        "from sklearn.preprocessing import LabelEncoder\n",
        "le = LabelEncoder()\n",
        "y_train = le.fit_transform(train_labels)\n",
        "y_test = le.transform(test_labels)\n",
        "\n",
        "print(\"Encoded classes:\", list(le.classes_))\n"
      ]
    },
    {
      "cell_type": "markdown",
      "metadata": {
        "id": "ts5BCMPEcRgr"
      },
      "source": [
        "# ✅ 3. Train Classifier"
      ]
    },
    {
      "cell_type": "code",
      "execution_count": 20,
      "metadata": {
        "id": "vr9hJ0h7V82E",
        "colab": {
          "base_uri": "https://localhost:8080/"
        },
        "outputId": "780a49b7-36bd-434a-cd94-72953c1d5a71"
      },
      "outputs": [
        {
          "output_type": "stream",
          "name": "stdout",
          "text": [
            "Few-shot CLIP + LogisticRegression Accuracy: 92.14%\n",
            "              precision    recall  f1-score   support\n",
            "\n",
            "      Normal       0.88      1.00      0.93       447\n",
            "Tuberculosis       1.00      0.82      0.90       355\n",
            "\n",
            "    accuracy                           0.92       802\n",
            "   macro avg       0.94      0.91      0.92       802\n",
            "weighted avg       0.93      0.92      0.92       802\n",
            "\n"
          ]
        }
      ],
      "source": [
        "from sklearn.linear_model import LogisticRegression\n",
        "from sklearn.metrics import accuracy_score, classification_report\n",
        "\n",
        "clf = LogisticRegression(max_iter=1000)\n",
        "clf.fit(X_train, y_train)\n",
        "\n",
        "y_pred = clf.predict(X_test)\n",
        "\n",
        "acc = accuracy_score(y_test, y_pred)\n",
        "print(f\"Few-shot CLIP + LogisticRegression Accuracy: {acc:.2%}\")\n",
        "print(classification_report(y_test, y_pred, target_names=le.classes_))\n"
      ]
    },
    {
      "cell_type": "markdown",
      "metadata": {
        "id": "UuTPIyGwcVG0"
      },
      "source": [
        "# ✅ 4. (Optional) Visualize Features with t-SNE"
      ]
    },
    {
      "cell_type": "code",
      "execution_count": 21,
      "metadata": {
        "id": "sVnG1QHcV84e",
        "colab": {
          "base_uri": "https://localhost:8080/",
          "height": 545
        },
        "outputId": "0682311f-d218-4dba-d7f6-0f7380fa9e49"
      },
      "outputs": [
        {
          "output_type": "display_data",
          "data": {
            "text/plain": [
              "<Figure size 800x600 with 1 Axes>"
            ],
            "image/png": "[encoded data removed]"
          },
          "metadata": {}
        }
      ],
      "source": [
        "from sklearn.manifold import TSNE\n",
        "import matplotlib.pyplot as plt\n",
        "\n",
        "X_all = np.vstack([X_train, X_test])\n",
        "y_all = np.concatenate([y_train, y_test])\n",
        "\n",
        "tsne = TSNE(n_components=2, random_state=42)\n",
        "X_2d = tsne.fit_transform(X_all)\n",
        "\n",
        "plt.figure(figsize=(8, 6))\n",
        "for label_idx in np.unique(y_all):\n",
        "    idxs = y_all == label_idx\n",
        "    plt.scatter(X_2d[idxs, 0], X_2d[idxs, 1], label=le.classes_[label_idx])\n",
        "plt.legend()\n",
        "plt.title(\"CLIP Embeddings (t-SNE projection)\")\n",
        "plt.show()\n"
      ]
    },
    {
      "cell_type": "markdown",
      "metadata": {
        "id": "idyE_IFycvsG"
      },
      "source": [
        "# 🥇 Option 1: Increase Few-shot Size (10 or 20 per class)\n",
        "### ===> ,We’ll take 10 samples per class for training, rest for testing:"
      ]
    },
    {
      "cell_type": "markdown",
      "metadata": {
        "id": "2n7xiTEt2_CA"
      },
      "source": [
        "#5️⃣ Contrastive Finetuning\tDomain Adaptation\tImproves CLIP via training\n"
      ]
    },
    {
      "cell_type": "markdown",
      "metadata": {
        "id": "7AX9jBYSqXjn"
      },
      "source": [
        "# ✅ 🧪 Option 2: Contrastive fine-tuning (MedCLIP style)\n",
        "## Fine-tune CLIP (MedCLIP-style Contrastive Learning)\n",
        "### Train CLIP with a contrastive loss on your medical dataset.\n",
        "\n",
        "### This can improve performance further, especially for large datasets later.\n",
        "\n",
        "### I can help you set up:\n",
        "\n",
        "### A dual encoder\n",
        "\n",
        "###Text-image pairs (via prompt engineering)\n",
        "\n",
        "### Triplet or InfoNCE-style loss"
      ]
    },
    {
      "cell_type": "code",
      "execution_count": 22,
      "metadata": {
        "id": "mDNNSCBaeg7N",
        "colab": {
          "base_uri": "https://localhost:8080/"
        },
        "outputId": "39380438-4198-414e-e264-72365c9f7b1d"
      },
      "outputs": [
        {
          "output_type": "stream",
          "name": "stdout",
          "text": [
            "Collecting git+https://github.com/openai/CLIP.git\n",
            "  Cloning https://github.com/openai/CLIP.git to /tmp/pip-req-build-c7v4julp\n",
            "  Running command git clone --filter=blob:none --quiet https://github.com/openai/CLIP.git /tmp/pip-req-build-c7v4julp\n",
            "  Resolved https://github.com/openai/CLIP.git to commit dcba3cb2e2827b402d2701e7e1c7d9fed8a20ef1\n",
            "  Preparing metadata (setup.py) ... \u001b[?25l\u001b[?25hdone\n",
            "Requirement already satisfied: ftfy in /usr/local/lib/python3.11/dist-packages (6.3.1)\n",
            "Requirement already satisfied: regex in /usr/local/lib/python3.11/dist-packages (2024.11.6)\n",
            "Requirement already satisfied: tqdm in /usr/local/lib/python3.11/dist-packages (4.67.1)\n",
            "Requirement already satisfied: wcwidth in /usr/local/lib/python3.11/dist-packages (from ftfy) (0.2.13)\n",
            "Requirement already satisfied: packaging in /usr/local/lib/python3.11/dist-packages (from clip==1.0) (24.2)\n",
            "Requirement already satisfied: torch in /usr/local/lib/python3.11/dist-packages (from clip==1.0) (2.6.0+cu124)\n",
            "Requirement already satisfied: torchvision in /usr/local/lib/python3.11/dist-packages (from clip==1.0) (0.21.0+cu124)\n",
            "Requirement already satisfied: filelock in /usr/local/lib/python3.11/dist-packages (from torch->clip==1.0) (3.18.0)\n",
            "Requirement already satisfied: typing-extensions>=4.10.0 in /usr/local/lib/python3.11/dist-packages (from torch->clip==1.0) (4.14.0)\n",
            "Requirement already satisfied: networkx in /usr/local/lib/python3.11/dist-packages (from torch->clip==1.0) (3.5)\n",
            "Requirement already satisfied: jinja2 in /usr/local/lib/python3.11/dist-packages (from torch->clip==1.0) (3.1.6)\n",
            "Requirement already satisfied: fsspec in /usr/local/lib/python3.11/dist-packages (from torch->clip==1.0) (2025.3.2)\n",
            "Requirement already satisfied: nvidia-cuda-nvrtc-cu12==12.4.127 in /usr/local/lib/python3.11/dist-packages (from torch->clip==1.0) (12.4.127)\n",
            "Requirement already satisfied: nvidia-cuda-runtime-cu12==12.4.127 in /usr/local/lib/python3.11/dist-packages (from torch->clip==1.0) (12.4.127)\n",
            "Requirement already satisfied: nvidia-cuda-cupti-cu12==12.4.127 in /usr/local/lib/python3.11/dist-packages (from torch->clip==1.0) (12.4.127)\n",
            "Requirement already satisfied: nvidia-cudnn-cu12==9.1.0.70 in /usr/local/lib/python3.11/dist-packages (from torch->clip==1.0) (9.1.0.70)\n",
            "Requirement already satisfied: nvidia-cublas-cu12==12.4.5.8 in /usr/local/lib/python3.11/dist-packages (from torch->clip==1.0) (12.4.5.8)\n",
            "Requirement already satisfied: nvidia-cufft-cu12==11.2.1.3 in /usr/local/lib/python3.11/dist-packages (from torch->clip==1.0) (11.2.1.3)\n",
            "Requirement already satisfied: nvidia-curand-cu12==10.3.5.147 in /usr/local/lib/python3.11/dist-packages (from torch->clip==1.0) (10.3.5.147)\n",
            "Requirement already satisfied: nvidia-cusolver-cu12==11.6.1.9 in /usr/local/lib/python3.11/dist-packages (from torch->clip==1.0) (11.6.1.9)\n",
            "Requirement already satisfied: nvidia-cusparse-cu12==12.3.1.170 in /usr/local/lib/python3.11/dist-packages (from torch->clip==1.0) (12.3.1.170)\n",
            "Requirement already satisfied: nvidia-cusparselt-cu12==0.6.2 in /usr/local/lib/python3.11/dist-packages (from torch->clip==1.0) (0.6.2)\n",
            "Requirement already satisfied: nvidia-nccl-cu12==2.21.5 in /usr/local/lib/python3.11/dist-packages (from torch->clip==1.0) (2.21.5)\n",
            "Requirement already satisfied: nvidia-nvtx-cu12==12.4.127 in /usr/local/lib/python3.11/dist-packages (from torch->clip==1.0) (12.4.127)\n",
            "Requirement already satisfied: nvidia-nvjitlink-cu12==12.4.127 in /usr/local/lib/python3.11/dist-packages (from torch->clip==1.0) (12.4.127)\n",
            "Requirement already satisfied: triton==3.2.0 in /usr/local/lib/python3.11/dist-packages (from torch->clip==1.0) (3.2.0)\n",
            "Requirement already satisfied: sympy==1.13.1 in /usr/local/lib/python3.11/dist-packages (from torch->clip==1.0) (1.13.1)\n",
            "Requirement already satisfied: mpmath<1.4,>=1.1.0 in /usr/local/lib/python3.11/dist-packages (from sympy==1.13.1->torch->clip==1.0) (1.3.0)\n",
            "Requirement already satisfied: numpy in /usr/local/lib/python3.11/dist-packages (from torchvision->clip==1.0) (2.0.2)\n",
            "Requirement already satisfied: pillow!=8.3.*,>=5.3.0 in /usr/local/lib/python3.11/dist-packages (from torchvision->clip==1.0) (11.2.1)\n",
            "Requirement already satisfied: MarkupSafe>=2.0 in /usr/local/lib/python3.11/dist-packages (from jinja2->torch->clip==1.0) (3.0.2)\n",
            "Requirement already satisfied: torchvision in /usr/local/lib/python3.11/dist-packages (0.21.0+cu124)\n",
            "Requirement already satisfied: matplotlib in /usr/local/lib/python3.11/dist-packages (3.10.0)\n",
            "Requirement already satisfied: numpy in /usr/local/lib/python3.11/dist-packages (from torchvision) (2.0.2)\n",
            "Requirement already satisfied: torch==2.6.0 in /usr/local/lib/python3.11/dist-packages (from torchvision) (2.6.0+cu124)\n",
            "Requirement already satisfied: pillow!=8.3.*,>=5.3.0 in /usr/local/lib/python3.11/dist-packages (from torchvision) (11.2.1)\n",
            "Requirement already satisfied: filelock in /usr/local/lib/python3.11/dist-packages (from torch==2.6.0->torchvision) (3.18.0)\n",
            "Requirement already satisfied: typing-extensions>=4.10.0 in /usr/local/lib/python3.11/dist-packages (from torch==2.6.0->torchvision) (4.14.0)\n",
            "Requirement already satisfied: networkx in /usr/local/lib/python3.11/dist-packages (from torch==2.6.0->torchvision) (3.5)\n",
            "Requirement already satisfied: jinja2 in /usr/local/lib/python3.11/dist-packages (from torch==2.6.0->torchvision) (3.1.6)\n",
            "Requirement already satisfied: fsspec in /usr/local/lib/python3.11/dist-packages (from torch==2.6.0->torchvision) (2025.3.2)\n",
            "Requirement already satisfied: nvidia-cuda-nvrtc-cu12==12.4.127 in /usr/local/lib/python3.11/dist-packages (from torch==2.6.0->torchvision) (12.4.127)\n",
            "Requirement already satisfied: nvidia-cuda-runtime-cu12==12.4.127 in /usr/local/lib/python3.11/dist-packages (from torch==2.6.0->torchvision) (12.4.127)\n",
            "Requirement already satisfied: nvidia-cuda-cupti-cu12==12.4.127 in /usr/local/lib/python3.11/dist-packages (from torch==2.6.0->torchvision) (12.4.127)\n",
            "Requirement already satisfied: nvidia-cudnn-cu12==9.1.0.70 in /usr/local/lib/python3.11/dist-packages (from torch==2.6.0->torchvision) (9.1.0.70)\n",
            "Requirement already satisfied: nvidia-cublas-cu12==12.4.5.8 in /usr/local/lib/python3.11/dist-packages (from torch==2.6.0->torchvision) (12.4.5.8)\n",
            "Requirement already satisfied: nvidia-cufft-cu12==11.2.1.3 in /usr/local/lib/python3.11/dist-packages (from torch==2.6.0->torchvision) (11.2.1.3)\n",
            "Requirement already satisfied: nvidia-curand-cu12==10.3.5.147 in /usr/local/lib/python3.11/dist-packages (from torch==2.6.0->torchvision) (10.3.5.147)\n",
            "Requirement already satisfied: nvidia-cusolver-cu12==11.6.1.9 in /usr/local/lib/python3.11/dist-packages (from torch==2.6.0->torchvision) (11.6.1.9)\n",
            "Requirement already satisfied: nvidia-cusparse-cu12==12.3.1.170 in /usr/local/lib/python3.11/dist-packages (from torch==2.6.0->torchvision) (12.3.1.170)\n",
            "Requirement already satisfied: nvidia-cusparselt-cu12==0.6.2 in /usr/local/lib/python3.11/dist-packages (from torch==2.6.0->torchvision) (0.6.2)\n",
            "Requirement already satisfied: nvidia-nccl-cu12==2.21.5 in /usr/local/lib/python3.11/dist-packages (from torch==2.6.0->torchvision) (2.21.5)\n",
            "Requirement already satisfied: nvidia-nvtx-cu12==12.4.127 in /usr/local/lib/python3.11/dist-packages (from torch==2.6.0->torchvision) (12.4.127)\n",
            "Requirement already satisfied: nvidia-nvjitlink-cu12==12.4.127 in /usr/local/lib/python3.11/dist-packages (from torch==2.6.0->torchvision) (12.4.127)\n",
            "Requirement already satisfied: triton==3.2.0 in /usr/local/lib/python3.11/dist-packages (from torch==2.6.0->torchvision) (3.2.0)\n",
            "Requirement already satisfied: sympy==1.13.1 in /usr/local/lib/python3.11/dist-packages (from torch==2.6.0->torchvision) (1.13.1)\n",
            "Requirement already satisfied: mpmath<1.4,>=1.1.0 in /usr/local/lib/python3.11/dist-packages (from sympy==1.13.1->torch==2.6.0->torchvision) (1.3.0)\n",
            "Requirement already satisfied: contourpy>=1.0.1 in /usr/local/lib/python3.11/dist-packages (from matplotlib) (1.3.2)\n",
            "Requirement already satisfied: cycler>=0.10 in /usr/local/lib/python3.11/dist-packages (from matplotlib) (0.12.1)\n",
            "Requirement already satisfied: fonttools>=4.22.0 in /usr/local/lib/python3.11/dist-packages (from matplotlib) (4.58.4)\n",
            "Requirement already satisfied: kiwisolver>=1.3.1 in /usr/local/lib/python3.11/dist-packages (from matplotlib) (1.4.8)\n",
            "Requirement already satisfied: packaging>=20.0 in /usr/local/lib/python3.11/dist-packages (from matplotlib) (24.2)\n",
            "Requirement already satisfied: pyparsing>=2.3.1 in /usr/local/lib/python3.11/dist-packages (from matplotlib) (3.2.3)\n",
            "Requirement already satisfied: python-dateutil>=2.7 in /usr/local/lib/python3.11/dist-packages (from matplotlib) (2.9.0.post0)\n",
            "Requirement already satisfied: six>=1.5 in /usr/local/lib/python3.11/dist-packages (from python-dateutil>=2.7->matplotlib) (1.17.0)\n",
            "Requirement already satisfied: MarkupSafe>=2.0 in /usr/local/lib/python3.11/dist-packages (from jinja2->torch==2.6.0->torchvision) (3.0.2)\n"
          ]
        }
      ],
      "source": [
        "!pip install ftfy regex tqdm git+https://github.com/openai/CLIP.git\n",
        "!pip install torchvision matplotlib\n"
      ]
    },
    {
      "cell_type": "markdown",
      "metadata": {
        "id": "GAO-7Tqgr0R1"
      },
      "source": [
        "# 🧠 Define Dataset and Utility Functions"
      ]
    },
    {
      "cell_type": "code",
      "execution_count": 23,
      "metadata": {
        "id": "DXD9x2NSeg9m"
      },
      "outputs": [],
      "source": [
        "import os\n",
        "import random\n",
        "import torch\n",
        "import clip\n",
        "from PIL import Image\n",
        "from torch.utils.data import Dataset, DataLoader\n",
        "import torch.nn as nn\n",
        "import torch.nn.functional as F\n",
        "import torch.optim as optim\n",
        "from tqdm import tqdm\n",
        "\n",
        "# Prompt builder (same as before)\n",
        "def build_prompts(label):\n",
        "    return [f\"A chest X-ray showing {label.lower()}\"]\n",
        "\n",
        "# Custom dataset\n",
        "class CLIPContrastiveDataset(Dataset):\n",
        "    def __init__(self, image_paths, image_labels, preprocess, classes):\n",
        "        self.image_paths = image_paths\n",
        "        self.image_labels = image_labels\n",
        "        self.preprocess = preprocess\n",
        "        self.prompts = []\n",
        "        self.classes = classes\n",
        "\n",
        "        for label in image_labels:\n",
        "            self.prompts.append(random.choice(build_prompts(label)))\n",
        "\n",
        "    def __len__(self):\n",
        "        return len(self.image_paths)\n",
        "\n",
        "    def __getitem__(self, idx):\n",
        "        image = self.preprocess(Image.open(self.image_paths[idx]))\n",
        "        text = self.prompts[idx]\n",
        "        return image, text\n"
      ]
    },
    {
      "cell_type": "markdown",
      "metadata": {
        "id": "WvV6eMERr3BP"
      },
      "source": [
        "# 🧪 Training Loop (with Contrastive Loss)"
      ]
    },
    {
      "cell_type": "code",
      "execution_count": 24,
      "metadata": {
        "id": "aoS4P3w3eg_w"
      },
      "outputs": [],
      "source": [
        "def train_clip_contrastive(model, dataset, device, epochs=5, batch_size=32, lr=1e-5):\n",
        "    model.eval()\n",
        "\n",
        "    dataloader = DataLoader(dataset, batch_size=batch_size, shuffle=True)\n",
        "\n",
        "    # Freeze all original CLIP parameters\n",
        "    for param in model.parameters():\n",
        "        param.requires_grad = False\n",
        "\n",
        "    # New trainable projection heads\n",
        "    text_proj = nn.Linear(model.token_embedding.embedding_dim, 512).to(device)\n",
        "    image_proj = nn.Linear(model.visual.output_dim, 512).to(device)\n",
        "\n",
        "    optimizer = optim.AdamW(list(text_proj.parameters()) + list(image_proj.parameters()), lr=lr)\n",
        "\n",
        "    for epoch in range(epochs):\n",
        "        model.eval()\n",
        "        text_proj.train()\n",
        "        image_proj.train()\n",
        "\n",
        "        total_loss = 0\n",
        "        for images, texts in tqdm(dataloader, desc=f\"Epoch {epoch+1}/{epochs}\"):\n",
        "            images = images.to(device)\n",
        "            texts = clip.tokenize(texts).to(device)\n",
        "\n",
        "            with torch.no_grad():\n",
        "                image_features = model.encode_image(images)\n",
        "                text_features = model.encode_text(texts)\n",
        "\n",
        "            image_features = F.normalize(image_proj(image_features), dim=-1)\n",
        "            text_features = F.normalize(text_proj(text_features), dim=-1)\n",
        "\n",
        "            # Contrastive InfoNCE loss\n",
        "            logits = image_features @ text_features.T\n",
        "            labels = torch.arange(len(logits)).to(device)\n",
        "            loss_i = F.cross_entropy(logits, labels)\n",
        "            loss_t = F.cross_entropy(logits.T, labels)\n",
        "            loss = (loss_i + loss_t) / 2\n",
        "\n",
        "            optimizer.zero_grad()\n",
        "            loss.backward()\n",
        "            optimizer.step()\n",
        "\n",
        "            total_loss += loss.item()\n",
        "\n",
        "        print(f\"Epoch {epoch+1}: Loss = {total_loss/len(dataloader):.4f}\")\n",
        "\n",
        "    return text_proj, image_proj\n"
      ]
    },
    {
      "cell_type": "markdown",
      "metadata": {
        "id": "gyyKui6BsFQw"
      },
      "source": [
        "# 🔍 Evaluation after Fine-tuning"
      ]
    },
    {
      "cell_type": "code",
      "execution_count": 25,
      "metadata": {
        "id": "2nC_v0QyehBq"
      },
      "outputs": [],
      "source": [
        "def evaluate_zero_shot(model, image_paths, image_labels, classes, preprocess, device, text_proj, image_proj):\n",
        "    def build_prompts(label):\n",
        "        return [f\"A chest X-ray showing {label.lower()}\"]\n",
        "\n",
        "    prompts = [random.choice(build_prompts(cls)) for cls in classes]\n",
        "    tokens = clip.tokenize(prompts).to(device)\n",
        "\n",
        "    with torch.no_grad():\n",
        "        text_features = model.encode_text(tokens)\n",
        "        text_features = F.normalize(text_proj(text_features), dim=-1)\n",
        "\n",
        "    correct = 0\n",
        "    for path, true_label in zip(image_paths, image_labels):\n",
        "        image = preprocess(Image.open(path)).unsqueeze(0).to(device)\n",
        "        with torch.no_grad():\n",
        "            img_feat = model.encode_image(image)\n",
        "            img_feat = F.normalize(image_proj(img_feat), dim=-1)\n",
        "\n",
        "            similarity = img_feat @ text_features.T\n",
        "            pred_idx = similarity.argmax().item()\n",
        "            pred_label = classes[pred_idx]\n",
        "\n",
        "        if pred_label == true_label:\n",
        "            correct += 1\n",
        "\n",
        "    print(f\"Post-Fine-tuning Accuracy: {correct}/{len(image_paths)} = {correct / len(image_paths):.2%}\")\n"
      ]
    },
    {
      "cell_type": "markdown",
      "metadata": {
        "id": "OqkHRY6lsIZK"
      },
      "source": [
        "# 🔄 Run Everything"
      ]
    },
    {
      "cell_type": "code",
      "execution_count": 26,
      "metadata": {
        "id": "fg1_9CMJehFf",
        "colab": {
          "base_uri": "https://localhost:8080/"
        },
        "outputId": "8611d2c2-f062-4c00-a11f-1354950201d0"
      },
      "outputs": [
        {
          "output_type": "stream",
          "name": "stderr",
          "text": [
            "Epoch 1/5: 100%|██████████| 26/26 [02:46<00:00,  6.41s/it]\n"
          ]
        },
        {
          "output_type": "stream",
          "name": "stdout",
          "text": [
            "Epoch 1: Loss = 3.4254\n"
          ]
        },
        {
          "output_type": "stream",
          "name": "stderr",
          "text": [
            "Epoch 2/5: 100%|██████████| 26/26 [02:52<00:00,  6.65s/it]\n"
          ]
        },
        {
          "output_type": "stream",
          "name": "stdout",
          "text": [
            "Epoch 2: Loss = 3.4205\n"
          ]
        },
        {
          "output_type": "stream",
          "name": "stderr",
          "text": [
            "Epoch 3/5: 100%|██████████| 26/26 [02:49<00:00,  6.50s/it]\n"
          ]
        },
        {
          "output_type": "stream",
          "name": "stdout",
          "text": [
            "Epoch 3: Loss = 3.4131\n"
          ]
        },
        {
          "output_type": "stream",
          "name": "stderr",
          "text": [
            "Epoch 4/5: 100%|██████████| 26/26 [02:55<00:00,  6.77s/it]\n"
          ]
        },
        {
          "output_type": "stream",
          "name": "stdout",
          "text": [
            "Epoch 4: Loss = 3.4004\n"
          ]
        },
        {
          "output_type": "stream",
          "name": "stderr",
          "text": [
            "Epoch 5/5: 100%|██████████| 26/26 [02:51<00:00,  6.59s/it]\n"
          ]
        },
        {
          "output_type": "stream",
          "name": "stdout",
          "text": [
            "Epoch 5: Loss = 3.3745\n",
            "Post-Fine-tuning Accuracy: 697/812 = 85.84%\n"
          ]
        }
      ],
      "source": [
        "# Load CLIP model\n",
        "model, preprocess = clip.load(\"ViT-B/32\", device=device)\n",
        "\n",
        "# Prepare dataset\n",
        "dataset = CLIPContrastiveDataset(image_paths, image_labels, preprocess, classes)\n",
        "\n",
        "# Train\n",
        "text_proj, image_proj = train_clip_contrastive(model, dataset, device)\n",
        "\n",
        "# Evaluate\n",
        "evaluate_zero_shot(model, image_paths, image_labels, classes, preprocess, device, text_proj, image_proj)\n"
      ]
    },
    {
      "cell_type": "markdown",
      "source": [
        "# 🔁 1. Use More Epochs & Larger Batch Size\n",
        "\n",
        "#   Your loss is decreasing slowly but steadily. The loss ~3.46 means the model still struggles to differentiate.\n",
        "# In train_clip_contrastive:\n",
        "#===================================\n",
        "# epochs = 20   or at least 10\n",
        "# batch_size = 64   if GPU allows"
      ],
      "metadata": {
        "id": "gggYqAHFhY7x"
      }
    },
    {
      "cell_type": "markdown",
      "source": [
        "# ✅ Summary of Progress So Far\n",
        "# Step\tResult\n",
        "# Zero-shot CLIP baseline\t✅ 46.66% accuracy\n",
        "# Few-shot with Logistic Regression\t✅ 92.14% accuracy with 5 samples\n",
        "# Contrastive fine-tuning (MedCLIP style)\t✅ Boosted to 85.84% post-fine-tuning"
      ],
      "metadata": {
        "id": "KUg4OEJKhdWU"
      }
    },
    {
      "cell_type": "code",
      "execution_count": null,
      "metadata": {
        "id": "byBUQQNoehHn"
      },
      "outputs": [],
      "source": []
    },
    {
      "cell_type": "code",
      "execution_count": null,
      "metadata": {
        "id": "p0WH206WehJo"
      },
      "outputs": [],
      "source": []
    },
    {
      "cell_type": "code",
      "execution_count": null,
      "metadata": {
        "id": "8w3z4jPJehLp"
      },
      "outputs": [],
      "source": []
    },
    {
      "cell_type": "code",
      "execution_count": null,
      "metadata": {
        "id": "OuJ3D8VOehOJ"
      },
      "outputs": [],
      "source": []
    },
    {
      "cell_type": "code",
      "execution_count": null,
      "metadata": {
        "id": "8VSEW5s_nz2e"
      },
      "outputs": [],
      "source": []
    },
    {
      "cell_type": "code",
      "execution_count": null,
      "metadata": {
        "id": "Q-UYM_86nz41"
      },
      "outputs": [],
      "source": []
    },
    {
      "cell_type": "code",
      "execution_count": null,
      "metadata": {
        "id": "vfiL5FLanz7R"
      },
      "outputs": [],
      "source": []
    },
    {
      "cell_type": "code",
      "execution_count": null,
      "metadata": {
        "id": "hjxhPEdznz-e"
      },
      "outputs": [],
      "source": []
    },
    {
      "cell_type": "code",
      "execution_count": null,
      "metadata": {
        "id": "O5tqlCNZ3OAW"
      },
      "outputs": [],
      "source": []
    },
    {
      "cell_type": "code",
      "execution_count": null,
      "metadata": {
        "id": "ysNB8gov3ODU"
      },
      "outputs": [],
      "source": []
    },
    {
      "cell_type": "code",
      "execution_count": null,
      "metadata": {
        "id": "4wgXfe1G3OGS"
      },
      "outputs": [],
      "source": []
    },
    {
      "cell_type": "code",
      "execution_count": null,
      "metadata": {
        "id": "VqI561nO3OJr"
      },
      "outputs": [],
      "source": []
    },
    {
      "cell_type": "code",
      "execution_count": null,
      "metadata": {
        "id": "XDxRB8BQ3OM6"
      },
      "outputs": [],
      "source": []
    },
    {
      "cell_type": "code",
      "execution_count": null,
      "metadata": {
        "id": "3ntDtnwx3OPp"
      },
      "outputs": [],
      "source": []
    },
    {
      "cell_type": "code",
      "execution_count": null,
      "metadata": {
        "id": "GSsZ4Mnc3OTR"
      },
      "outputs": [],
      "source": []
    },
    {
      "cell_type": "code",
      "execution_count": null,
      "metadata": {
        "id": "C1_sQ6UK3OWL"
      },
      "outputs": [],
      "source": []
    },
    {
      "cell_type": "code",
      "execution_count": null,
      "metadata": {
        "id": "Ws5TROXF3OZH"
      },
      "outputs": [],
      "source": []
    },
    {
      "cell_type": "code",
      "execution_count": null,
      "metadata": {
        "id": "gb5eXlKH3Obv"
      },
      "outputs": [],
      "source": []
    },
    {
      "cell_type": "code",
      "execution_count": null,
      "metadata": {
        "id": "grgP5fzd3Oeb"
      },
      "outputs": [],
      "source": []
    },
    {
      "cell_type": "markdown",
      "metadata": {
        "id": "peG9jAQqnR6e"
      },
      "source": []
    },
    {
      "cell_type": "code",
      "execution_count": null,
      "metadata": {
        "id": "rdLpzOzzSkjp"
      },
      "outputs": [],
      "source": []
    }
  ],
  "metadata": {
    "colab": {
      "provenance": []
    },
    "kernelspec": {
      "display_name": "Python 3",
      "name": "python3"
    },
    "language_info": {
      "name": "python"
    }
  },
  "nbformat": 4,
  "nbformat_minor": 0
}